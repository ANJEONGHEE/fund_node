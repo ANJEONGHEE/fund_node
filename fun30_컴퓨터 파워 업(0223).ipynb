{
 "cells": [
  {
   "cell_type": "code",
   "execution_count": 7,
   "id": "d787e9b0",
   "metadata": {},
   "outputs": [
    {
     "name": "stdout",
     "output_type": "stream",
     "text": [
      "process ID: 64\n",
      "user ID: 0\n",
      "group ID: 0\n",
      "current Directory: /aiffel/aiffel\n"
     ]
    }
   ],
   "source": [
    "import os\n",
    "\n",
    "# process ID\n",
    "print(\"process ID:\", os.getpid())\n",
    "\n",
    "# User ID\n",
    "print(\"user ID:\", os.getuid())\n",
    "\n",
    "# group ID\n",
    "print(\"group ID:\", os.getgid())\n",
    "\n",
    "#현재 작업중인 디렉토리\n",
    "print(\"current Directory:\", os.getcwd())"
   ]
  },
  {
   "cell_type": "code",
   "execution_count": null,
   "id": "0339dacf",
   "metadata": {},
   "outputs": [],
   "source": [
    "$ ps -ef grep 64  # 위 코드에서 확인한 pid값 64를 입력해줌\n",
    "# 결과 :\n",
    "# root@wgqozb4e005xrt4k4vudjprfv-66bf8fb9b8-95ppc:~# ps -ef | grep 64\n",
    "# root          64       8  0 01:32 ?        00:00:00 /opt/conda/bin/python -m ipykernel_launcher -f /aiffel/.local/share/jupyter/runtime/kernel-e4afdc57-8b97-4eea-acee-4fe014a971d3.json\n",
    "# root          86      80  0 01:41 pts/0    00:00:00 grep 64\n",
    "# root@wgqozb4e005xrt4k4vudjprfv-66bf8fb9b8-95ppc:~# "
   ]
  },
  {
   "cell_type": "markdown",
   "id": "b82ddab0",
   "metadata": {},
   "source": [
    "프로그램 수행시간 게산하는 프로파일링 과정 : 파이썬 명령어로 확인"
   ]
  },
  {
   "cell_type": "code",
   "execution_count": 8,
   "id": "2e97f82d",
   "metadata": {},
   "outputs": [],
   "source": [
    "%timeit"
   ]
  },
  {
   "cell_type": "code",
   "execution_count": 9,
   "id": "d1642d66",
   "metadata": {},
   "outputs": [
    {
     "data": {
      "text/plain": [
       "1645581035.2720904"
      ]
     },
     "execution_count": 9,
     "metadata": {},
     "output_type": "execute_result"
    }
   ],
   "source": [
    "import time\n",
    "time.time()"
   ]
  },
  {
   "cell_type": "code",
   "execution_count": 10,
   "id": "f54b3132",
   "metadata": {},
   "outputs": [
    {
     "data": {
      "text/plain": [
       "<timeit.Timer at 0x7f512c228940>"
      ]
     },
     "execution_count": 10,
     "metadata": {},
     "output_type": "execute_result"
    }
   ],
   "source": [
    "import timeit\n",
    "timeit.Timer()"
   ]
  },
  {
   "cell_type": "code",
   "execution_count": 12,
   "id": "eaaebd49",
   "metadata": {},
   "outputs": [
    {
     "name": "stdout",
     "output_type": "stream",
     "text": [
      "set                            : 1.6496205000003101 [ms]\n",
      "list                            : 0.8137482450001698 [ms]\n",
      "tuple                         : 0.7474906060006106 [ms]\n",
      "string                        : 0.40715211799943063 [ms]\n",
      "set_add                     : 5.703501202999178 [ms]\n",
      "list_append               : 5.037597561000439 [ms]\n",
      "set_comprehension    : 5.711985631999596 [ms]\n",
      "list_comprehension    : 5.115517350000118 [ms]\n"
     ]
    }
   ],
   "source": [
    "# 시간 측정하는 방법 - 프로파일링이라고 하긴 좀 민망\n",
    "import timeit\n",
    "\n",
    "def f1() :\n",
    "    s = set(range(100))\n",
    "    \n",
    "def f2() :\n",
    "    l = list(range(100))\n",
    "    \n",
    "def f3() :\n",
    "    t= tuple(range(100))\n",
    "    \n",
    "def f4() :\n",
    "    s = str(range(100))\n",
    "    \n",
    "def f5() :\n",
    "    s= set()\n",
    "    for i in range(100):\n",
    "        s.add(i)\n",
    "        \n",
    "def f6() :\n",
    "    l = []\n",
    "    for i in range(100):\n",
    "        l.append(i)\n",
    "        \n",
    "def f8() :\n",
    "    l_comp = [i for i in range(100)]\n",
    "    \n",
    "    \n",
    "if __name__ == \"__main__\":\n",
    "    t1 = timeit.Timer(\"f1()\", \"from __main__ import f1\")\n",
    "    t2 = timeit.Timer(\"f2()\", \"from __main__ import f2\")\n",
    "    t3 = timeit.Timer(\"f3()\", \"from __main__ import f3\")\n",
    "    t4 = timeit.Timer(\"f4()\", \"from __main__ import f4\")\n",
    "    t5 = timeit.Timer(\"f5()\", \"from __main__ import f5\")\n",
    "    t6 = timeit.Timer(\"f6()\", \"from __main__ import f6\")\n",
    "    t7 = timeit.Timer(\"f7()\", \"from __main__ import f7\")\n",
    "    t8 = timeit.Timer(\"f8()\", \"from __main__ import f8\")\n",
    "    print(\"set                            :\", t1.timeit(), '[ms]')\n",
    "    print(\"list                            :\", t2.timeit(), '[ms]')\n",
    "    print(\"tuple                         :\", t3.timeit(), '[ms]')\n",
    "    print(\"string                        :\", t4.timeit(), '[ms]')\n",
    "    print(\"set_add                     :\", t5.timeit(), '[ms]')\n",
    "    print(\"list_append               :\", t6.timeit(), '[ms]')\n",
    "    print(\"set_comprehension    :\", t5.timeit(), '[ms]')\n",
    "    print(\"list_comprehension    :\", t6.timeit(), '[ms]')\n",
    "    "
   ]
  },
  {
   "cell_type": "code",
   "execution_count": 14,
   "id": "093180de",
   "metadata": {},
   "outputs": [
    {
     "name": "stdout",
     "output_type": "stream",
     "text": [
      "delivery\n",
      "Retriving Dish\n"
     ]
    }
   ],
   "source": [
    "# 30-5 음식배달과 그릇 찾기 2가지 작업 순차적 수행하는 코드\n",
    "\n",
    "class Delivery:\n",
    "    def run(self):\n",
    "        print(\"delivery\")\n",
    "        \n",
    "class RetriveDish:\n",
    "    def run(self):\n",
    "        print(\"Retriving Dish\")\n",
    "        \n",
    "work1 = Delivery()\n",
    "work2 = RetriveDish()\n",
    "\n",
    "def main():\n",
    "    work1.run()\n",
    "    work2.run()\n",
    "    \n",
    "if __name__ == '__main__' :\n",
    "    main()"
   ]
  },
  {
   "cell_type": "code",
   "execution_count": 15,
   "id": "6b4bf604",
   "metadata": {},
   "outputs": [
    {
     "name": "stdout",
     "output_type": "stream",
     "text": [
      "delivery\n",
      "Retriving Dish\n"
     ]
    }
   ],
   "source": [
    "# 멀티스레드 : threading 모듈 import,  클래스에 Thread 상속받기\n",
    "\n",
    "from threading import *\n",
    "\n",
    "class Delivery(Thread):\n",
    "    def run(self):\n",
    "        print(\"delivery\")\n",
    "        \n",
    "class RetriveDish(Thread):\n",
    "    def run(self):\n",
    "        print(\"Retriving Dish\")\n",
    "        \n",
    "work1 = Delivery()\n",
    "work2 = RetriveDish()\n",
    "\n",
    "def main():\n",
    "    work1.run()\n",
    "    work2.run()\n",
    "    \n",
    "if __name__ == '__main__' :\n",
    "    main()"
   ]
  },
  {
   "cell_type": "code",
   "execution_count": 16,
   "id": "52e97b00",
   "metadata": {},
   "outputs": [
    {
     "name": "stdout",
     "output_type": "stream",
     "text": [
      "<bound method Delivery.run of <__main__.Delivery object at 0x7f512c15c610>>\n",
      "<bound method Delivery.run of <Delivery(Thread-10, initial)>>\n"
     ]
    }
   ],
   "source": [
    "# 스레드 생성확인 : 함수 이름을 출력하면 함수 객체 확인 가능\n",
    "from threading import *\n",
    "\n",
    "class Delivery:\n",
    "    def run(self):\n",
    "        print(\"delivery\")\n",
    "        \n",
    "work1 = Delivery()\n",
    "print(work1.run)\n",
    "\n",
    "class Delivery(Thread):\n",
    "    def run(self):\n",
    "        print(\"delivering\")\n",
    "        \n",
    "work2 = Delivery() \n",
    "print(work2.run)\n",
    "\n",
    "# 코드를 실행해 확인해 보면, work2 는 다른 스레드(Thread-12, 컴퓨터마다 다름)에 할당"
   ]
  },
  {
   "cell_type": "code",
   "execution_count": 18,
   "id": "d8392e7d",
   "metadata": {},
   "outputs": [
    {
     "name": "stdout",
     "output_type": "stream",
     "text": [
      "do Overwork\n",
      "do Overwork\n",
      "do Overwork\n",
      "do Overwork\n",
      "do Overwork\n",
      "do Overwork\n",
      "do Overwork\n",
      "do Overwork\n",
      "do Overwork\n",
      "do Overwork\n"
     ]
    }
   ],
   "source": [
    "# 30-6 스레드 생성, 인스턴스화\n",
    "\n",
    "from threading import *\n",
    "from time import sleep\n",
    "\n",
    "Stopped = False\n",
    "\n",
    "def worker(work, sleep_sec):   # 일꾼 스레드\n",
    "    while not Stopped:              # 그만 하라고 할 때까지\n",
    "        print('do', work)              # 시키는 일을 하고\n",
    "        sleep(sleep_sec)                # 잠깐 쉬기\n",
    "    print('retired..')                     # 언젠가 이 굴레를 벗어나면, 은퇴할 때가 오겠지요?\n",
    "    \n",
    "t = Thread(target=worker, args=('Overwork', 3))    # 일꾼 스레드 하나 생성\n",
    "t.start()          # 일꾼, 이제 일을 해야지?\n",
    "    "
   ]
  },
  {
   "cell_type": "code",
   "execution_count": 19,
   "id": "53f5347d",
   "metadata": {},
   "outputs": [
    {
     "name": "stdout",
     "output_type": "stream",
     "text": [
      "retired..\n",
      "worker is gone.\n"
     ]
    }
   ],
   "source": [
    "# 이 코드 블럭을 실행하기 전까지는 일꾼 스레드는 종료하지 않는다.\n",
    "Stopped = True           # 일꾼 일 그만하라고 세팅해주기\n",
    "t.join()                        # 일꾼 스레드가 종료할 때까지 기다리기\n",
    "print('worker is gone.')"
   ]
  },
  {
   "cell_type": "code",
   "execution_count": 21,
   "id": "531effe6",
   "metadata": {},
   "outputs": [
    {
     "name": "stdout",
     "output_type": "stream",
     "text": [
      "delivering...\n"
     ]
    }
   ],
   "source": [
    "# 30-7 process 생성하기\n",
    "\n",
    "import multiprocessing as mp\n",
    "\n",
    "def delivery():\n",
    "    print('delivering...')\n",
    "    \n",
    "p = mp.Process(target=delivery, args=())    \n",
    "p.start()"
   ]
  },
  {
   "cell_type": "markdown",
   "id": "b11a19d3",
   "metadata": {},
   "source": [
    "process 사용 : process class는 start(), join(), terminate() 같은 프로세스 동작 관련 메소드가 있다.\n",
    "\n",
    "p = mp.Process(target=delivery, args=())\n",
    "p.start()   # 프로세스 시작\n",
    "p.join()    # 실제 종료까지 기다림(필요시에만 사용)\n",
    "p.terminate()   # 프로세스 종료\n"
   ]
  },
  {
   "cell_type": "code",
   "execution_count": 25,
   "id": "038ab0e9",
   "metadata": {},
   "outputs": [
    {
     "name": "stdout",
     "output_type": "stream",
     "text": [
      "delivering\n"
     ]
    }
   ],
   "source": [
    "# 30-8 ThreadPoolExecutor\n",
    "\n",
    "from concurrent.futures import ThreadPoolExecutor\n",
    "\n",
    "class Delivery:\n",
    "    def run(self):\n",
    "        print(\"delivering\")    \n",
    "w = Delivery()\n",
    "\n",
    "with ThreadPoolExecutor() as executor:\n",
    "    future = executor.submit(w.run)"
   ]
  },
  {
   "cell_type": "code",
   "execution_count": 30,
   "id": "5ca7fc44",
   "metadata": {
    "scrolled": true
   },
   "outputs": [
    {
     "name": "stdout",
     "output_type": "stream",
     "text": [
      "I'm processing I'm processing I'm processing I'm processing    152153154 \n",
      "\n",
      "155\n",
      "\n",
      "I'm processing  153\n",
      "[2, 4, 6, 8, 10]\n"
     ]
    }
   ],
   "source": [
    "from multiprocessing import Pool\n",
    "from os import getpid\n",
    "\n",
    "def double(i):\n",
    "    print(\"I'm processing \", getpid())    # pool 안에서 이 메소드가 실행될 때 pid를 확인해 봅시다.\n",
    "    return i * 2\n",
    "\n",
    "with Pool() as pool:\n",
    "      result = pool.map(double, [1, 2, 3, 4, 5])\n",
    "      print(result)\n",
    "    \n",
    "# double(i)이라는 메소드가 pool을 통해 각각 다른 pid를 가진 프로세스들 위에서 multiprocess로 실행되었다는 것을 확인    "
   ]
  },
  {
   "cell_type": "code",
   "execution_count": 31,
   "id": "5736000b",
   "metadata": {},
   "outputs": [
    {
     "ename": "SyntaxError",
     "evalue": "invalid syntax (3362925385.py, line 29)",
     "output_type": "error",
     "traceback": [
      "\u001b[0;36m  File \u001b[0;32m\"/tmp/ipykernel_64/3362925385.py\"\u001b[0;36m, line \u001b[0;32m29\u001b[0m\n\u001b[0;31m    def main()\u001b[0m\n\u001b[0m              ^\u001b[0m\n\u001b[0;31mSyntaxError\u001b[0m\u001b[0;31m:\u001b[0m invalid syntax\n"
     ]
    }
   ],
   "source": [
    "# 30-10 아래 코드는 concurrent.futures 모듈 공식 문서의 ProcessPoolExecutor 예제 에 실린 코드\n",
    "\n",
    "import math\n",
    "import concurrent\n",
    "\n",
    "PRIMES = [\n",
    "    112272535095293,\n",
    "    112582705942171,\n",
    "    112272535095293,\n",
    "    115280095190773,\n",
    "    115797848077099,\n",
    "    1099726899285419]\n",
    "\n",
    "def is_prime(n):\n",
    "    if n < 2:\n",
    "        return False\n",
    "    if n == 2:\n",
    "        return True\n",
    "    if n % 2 == 0:\n",
    "        return False\n",
    "    \n",
    "    sqrt_n = int(math.floor(math.sqrt(n)))\n",
    "    for i in range(3, sqrt_n + 1, 2):\n",
    "        if n % i == 0:\n",
    "            return False\n",
    "        return True\n",
    "    return True\n",
    "\n",
    "def main()\n",
    "    with concurrent.futures.ProcessPoolExecutor:\n",
    "        for number, prime in zip(PRIMES, executor.map(is_prime, PRIMES)):\n",
    "            print(''%d is prime:%s'% (number, prime))\n",
    "                  \n",
    "if __name__ =='__main__':\n",
    "    main()              \n",
    "\n"
   ]
  },
  {
   "cell_type": "code",
   "execution_count": 32,
   "id": "2e490ecb",
   "metadata": {},
   "outputs": [
    {
     "name": "stdout",
     "output_type": "stream",
     "text": [
      "*    .\n",
      "·   *\n",
      "  *   *\n",
      "🌲 🦕 🌳\n"
     ]
    }
   ],
   "source": [
    "# 1) 문제 : 소수(prime) 판별 문제로 PRIMES 변수에 선언된 숫자들이 소수인지 아닌지 판별하기\n",
    "\n",
    "import math\n",
    "import concurrent\n",
    "\n",
    "PRIMES = [\n",
    "    112272535095293,\n",
    "    112582705942171,\n",
    "    112272535095293,\n",
    "    115280095190773,\n",
    "    115797848077099,\n",
    "    1099726899285419]\n",
    "\n",
    "print(\"*    .\\n·   *\\n  *   *\\n🌲 🦕 🌳\")"
   ]
  },
  {
   "cell_type": "code",
   "execution_count": 34,
   "id": "2c6743ac",
   "metadata": {},
   "outputs": [
    {
     "name": "stdout",
     "output_type": "stream",
     "text": [
      "🌲      🦕...\n"
     ]
    }
   ],
   "source": [
    "# 2) 소수 판별 함수 : is_prime\n",
    "def is_prime(n):\n",
    "    if n < 2:\n",
    "        return False\n",
    "    if n == 2:\n",
    "        return True\n",
    "    if n % 2 == 0:\n",
    "        return False\n",
    "    \n",
    "    sqrt_n = int(math.floor(math.sqrt(n)))\n",
    "    for i in range(3, aqrt_n + 1, 2):\n",
    "        if n % i == 0:\n",
    "            return False\n",
    "        return True\n",
    "print(\"🌲      🦕...\")    "
   ]
  },
  {
   "cell_type": "markdown",
   "id": "a395e840",
   "metadata": {},
   "source": [
    "3)  소수 판별 함수 호출\n",
    "main() 함수를 따로 작성하여 소수 판별 함수(is_prime)를 호출하였습니다.\n",
    "\n",
    "맵-리듀스(map-reduce)스타일로 코드를 작성하고 map() 함수를 ProcessPoolExecutor() 인스턴스에서 생성된 executor 에서 실행시킵니다.\n",
    "\n",
    "concurrent.futures 라이브러리의 프로세스 풀에서 동작하게 하기 위해 with 문을 써서 구현"
   ]
  },
  {
   "cell_type": "code",
   "execution_count": 35,
   "id": "5f348b37",
   "metadata": {},
   "outputs": [
    {
     "name": "stdout",
     "output_type": "stream",
     "text": [
      "🌲   🦕.....\n"
     ]
    }
   ],
   "source": [
    "def main():\n",
    "    with concurrent.futures.ProcessPoolExecutor() as executor:\n",
    "        for number, prime in zip(PRIMES, executor.map(is_prime, PRIMES)):\n",
    "            print('%d is prime: %s' % (number, prime))\n",
    "print(\"🌲   🦕.....\")            "
   ]
  },
  {
   "cell_type": "code",
   "execution_count": 36,
   "id": "0d9f9685",
   "metadata": {},
   "outputs": [
    {
     "name": "stdout",
     "output_type": "stream",
     "text": [
      " ❣\n",
      "🌲🦕.......\n"
     ]
    }
   ],
   "source": [
    "# 병렬처리와 단일처리 비교 위해 코드 수정해보기 - 프로파일링을 위한 시간 게산 코드 추가, \n",
    "# 단일처리로 수행했을 때의 코드 추가, 단일처리 프로파일링을 위한 시간 계산 코드 추가\n",
    "\n",
    "import time\n",
    "\n",
    "def main():\n",
    "    print(\"병렬처리 시작\")\n",
    "    start = time.time()\n",
    "    with concurrent.futures.ProcessPoolExecutor:\n",
    "        for number, prime in zip(PRIMES,executor.map(is_prime, PRIMES)):\n",
    "            print('%d is prime: %s' % (number, prime))\n",
    "    end = time.time()\n",
    "    print(\"병렬처리 수행 시각\", end-start, 'S')\n",
    "    \n",
    "    print(\"단일처리 시작\")\n",
    "    start = time.time()\n",
    "    for number, prime in zip(PRIMES, map(is_prime, PRIMES)):\n",
    "        print('%d is prime: %s' % (number, prime))\n",
    "    end = time.time()\n",
    "    print(\"단일처리 수행 시각\", end-start, 'S')\n",
    "print(\" ❣\\n🌲🦕.......\")"
   ]
  },
  {
   "cell_type": "code",
   "execution_count": 39,
   "id": "9a4954b4",
   "metadata": {},
   "outputs": [
    {
     "ename": "IndentationError",
     "evalue": "unexpected indent (1078510224.py, line 2)",
     "output_type": "error",
     "traceback": [
      "\u001b[0;36m  File \u001b[0;32m\"/tmp/ipykernel_64/1078510224.py\"\u001b[0;36m, line \u001b[0;32m2\u001b[0m\n\u001b[0;31m    main()\u001b[0m\n\u001b[0m    ^\u001b[0m\n\u001b[0;31mIndentationError\u001b[0m\u001b[0;31m:\u001b[0m unexpected indent\n"
     ]
    }
   ],
   "source": [
    "# 전체코드\n",
    " "
   ]
  },
  {
   "cell_type": "code",
   "execution_count": 41,
   "id": "65009d16",
   "metadata": {},
   "outputs": [
    {
     "name": "stdout",
     "output_type": "stream",
     "text": [
      "병렬처리 시작\n"
     ]
    },
    {
     "ename": "AttributeError",
     "evalue": "__enter__",
     "output_type": "error",
     "traceback": [
      "\u001b[0;31m---------------------------------------------------------------------------\u001b[0m",
      "\u001b[0;31mAttributeError\u001b[0m                            Traceback (most recent call last)",
      "\u001b[0;32m/tmp/ipykernel_64/451043146.py\u001b[0m in \u001b[0;36m<module>\u001b[0;34m\u001b[0m\n\u001b[0;32m----> 1\u001b[0;31m \u001b[0mmain\u001b[0m\u001b[0;34m(\u001b[0m\u001b[0;34m)\u001b[0m\u001b[0;34m\u001b[0m\u001b[0;34m\u001b[0m\u001b[0m\n\u001b[0m",
      "\u001b[0;32m/tmp/ipykernel_64/2266406190.py\u001b[0m in \u001b[0;36mmain\u001b[0;34m()\u001b[0m\n\u001b[1;32m      7\u001b[0m     \u001b[0mprint\u001b[0m\u001b[0;34m(\u001b[0m\u001b[0;34m\"병렬처리 시작\"\u001b[0m\u001b[0;34m)\u001b[0m\u001b[0;34m\u001b[0m\u001b[0;34m\u001b[0m\u001b[0m\n\u001b[1;32m      8\u001b[0m     \u001b[0mstart\u001b[0m \u001b[0;34m=\u001b[0m \u001b[0mtime\u001b[0m\u001b[0;34m.\u001b[0m\u001b[0mtime\u001b[0m\u001b[0;34m(\u001b[0m\u001b[0;34m)\u001b[0m\u001b[0;34m\u001b[0m\u001b[0;34m\u001b[0m\u001b[0m\n\u001b[0;32m----> 9\u001b[0;31m     \u001b[0;32mwith\u001b[0m \u001b[0mconcurrent\u001b[0m\u001b[0;34m.\u001b[0m\u001b[0mfutures\u001b[0m\u001b[0;34m.\u001b[0m\u001b[0mProcessPoolExecutor\u001b[0m\u001b[0;34m:\u001b[0m\u001b[0;34m\u001b[0m\u001b[0;34m\u001b[0m\u001b[0m\n\u001b[0m\u001b[1;32m     10\u001b[0m         \u001b[0;32mfor\u001b[0m \u001b[0mnumber\u001b[0m\u001b[0;34m,\u001b[0m \u001b[0mprime\u001b[0m \u001b[0;32min\u001b[0m \u001b[0mzip\u001b[0m\u001b[0;34m(\u001b[0m\u001b[0mPRIMES\u001b[0m\u001b[0;34m,\u001b[0m\u001b[0mexecutor\u001b[0m\u001b[0;34m.\u001b[0m\u001b[0mmap\u001b[0m\u001b[0;34m(\u001b[0m\u001b[0mis_prime\u001b[0m\u001b[0;34m,\u001b[0m \u001b[0mPRIMES\u001b[0m\u001b[0;34m)\u001b[0m\u001b[0;34m)\u001b[0m\u001b[0;34m:\u001b[0m\u001b[0;34m\u001b[0m\u001b[0;34m\u001b[0m\u001b[0m\n\u001b[1;32m     11\u001b[0m             \u001b[0mprint\u001b[0m\u001b[0;34m(\u001b[0m\u001b[0;34m'%d is prime: %s'\u001b[0m \u001b[0;34m%\u001b[0m \u001b[0;34m(\u001b[0m\u001b[0mnumber\u001b[0m\u001b[0;34m,\u001b[0m \u001b[0mprime\u001b[0m\u001b[0;34m)\u001b[0m\u001b[0;34m)\u001b[0m\u001b[0;34m\u001b[0m\u001b[0;34m\u001b[0m\u001b[0m\n",
      "\u001b[0;31mAttributeError\u001b[0m: __enter__"
     ]
    }
   ],
   "source": [
    "main()"
   ]
  },
  {
   "cell_type": "code",
   "execution_count": null,
   "id": "0116b44b",
   "metadata": {},
   "outputs": [],
   "source": []
  }
 ],
 "metadata": {
  "kernelspec": {
   "display_name": "Python 3 (ipykernel)",
   "language": "python",
   "name": "python3"
  },
  "language_info": {
   "codemirror_mode": {
    "name": "ipython",
    "version": 3
   },
   "file_extension": ".py",
   "mimetype": "text/x-python",
   "name": "python",
   "nbconvert_exporter": "python",
   "pygments_lexer": "ipython3",
   "version": "3.9.7"
  }
 },
 "nbformat": 4,
 "nbformat_minor": 5
}
