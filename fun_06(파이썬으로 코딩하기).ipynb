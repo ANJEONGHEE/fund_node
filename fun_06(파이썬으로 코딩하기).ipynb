{
 "cells": [
  {
   "cell_type": "code",
   "execution_count": 1,
   "id": "493f25d2",
   "metadata": {},
   "outputs": [],
   "source": [
    "def add(number1, number2):\n",
    "    print(number1 + number2)"
   ]
  },
  {
   "cell_type": "code",
   "execution_count": 2,
   "id": "423e7b08",
   "metadata": {},
   "outputs": [
    {
     "name": "stdout",
     "output_type": "stream",
     "text": [
      "3\n"
     ]
    }
   ],
   "source": [
    "add(1, 2)"
   ]
  },
  {
   "cell_type": "code",
   "execution_count": 3,
   "id": "8331f6ed",
   "metadata": {},
   "outputs": [
    {
     "name": "stdout",
     "output_type": "stream",
     "text": [
      "3\n"
     ]
    },
    {
     "ename": "TypeError",
     "evalue": "unsupported operand type(s) for +: 'NoneType' and 'int'",
     "output_type": "error",
     "traceback": [
      "\u001b[0;31m---------------------------------------------------------------------------\u001b[0m",
      "\u001b[0;31mTypeError\u001b[0m                                 Traceback (most recent call last)",
      "\u001b[0;32m/tmp/ipykernel_95/1255685806.py\u001b[0m in \u001b[0;36m<module>\u001b[0;34m\u001b[0m\n\u001b[0;32m----> 1\u001b[0;31m \u001b[0mprint\u001b[0m\u001b[0;34m(\u001b[0m\u001b[0madd\u001b[0m\u001b[0;34m(\u001b[0m\u001b[0;36m1\u001b[0m\u001b[0;34m,\u001b[0m \u001b[0;36m2\u001b[0m\u001b[0;34m)\u001b[0m \u001b[0;34m+\u001b[0m \u001b[0;36m3\u001b[0m\u001b[0;34m)\u001b[0m\u001b[0;34m\u001b[0m\u001b[0;34m\u001b[0m\u001b[0m\n\u001b[0m",
      "\u001b[0;31mTypeError\u001b[0m: unsupported operand type(s) for +: 'NoneType' and 'int'"
     ]
    }
   ],
   "source": [
    "print(add(1, 2) + 3)"
   ]
  },
  {
   "cell_type": "code",
   "execution_count": 4,
   "id": "db36b858",
   "metadata": {},
   "outputs": [
    {
     "ename": "SyntaxError",
     "evalue": "unmatched ')' (1630314987.py, line 1)",
     "output_type": "error",
     "traceback": [
      "\u001b[0;36m  File \u001b[0;32m\"/tmp/ipykernel_95/1630314987.py\"\u001b[0;36m, line \u001b[0;32m1\u001b[0m\n\u001b[0;31m    print(add(1, 2) )+ 3)\u001b[0m\n\u001b[0m                        ^\u001b[0m\n\u001b[0;31mSyntaxError\u001b[0m\u001b[0;31m:\u001b[0m unmatched ')'\n"
     ]
    }
   ],
   "source": [
    "print(add(1, 2) )+ 3)"
   ]
  },
  {
   "cell_type": "code",
   "execution_count": 5,
   "id": "ff096b73",
   "metadata": {},
   "outputs": [],
   "source": [
    "def add_and_return(number1, number2):\n",
    "    print(number1 + number2)\n",
    "    return number1 + number2"
   ]
  },
  {
   "cell_type": "code",
   "execution_count": 6,
   "id": "79bb4ab7",
   "metadata": {},
   "outputs": [
    {
     "name": "stdout",
     "output_type": "stream",
     "text": [
      "3\n",
      "6\n"
     ]
    }
   ],
   "source": [
    "print(add_and_return(1, 2) + 3)"
   ]
  },
  {
   "cell_type": "code",
   "execution_count": 7,
   "id": "ce78c152",
   "metadata": {},
   "outputs": [
    {
     "name": "stdout",
     "output_type": "stream",
     "text": [
      "3\n",
      "6\n"
     ]
    }
   ],
   "source": [
    "print(add_and_return(1, 2) + 3)"
   ]
  },
  {
   "cell_type": "code",
   "execution_count": 8,
   "id": "7728dce4",
   "metadata": {},
   "outputs": [],
   "source": [
    "def add_and_return(number1, number2):\n",
    "    print(number1 + number2)\n",
    "    return number1 + number2"
   ]
  },
  {
   "cell_type": "code",
   "execution_count": 9,
   "id": "bf27f745",
   "metadata": {},
   "outputs": [],
   "source": [
    "def print_two(word1, word2):\n",
    "    print(word1)\n",
    "    print(word2)\n",
    "\n",
    "def print_and_return(word1, word2, word3):\n",
    "    print_two(word3, word2)\n",
    "    return word1"
   ]
  },
  {
   "cell_type": "code",
   "execution_count": 10,
   "id": "1f5e04b0",
   "metadata": {},
   "outputs": [
    {
     "name": "stdout",
     "output_type": "stream",
     "text": [
      "D\n",
      "C\n",
      "A\n",
      "B\n"
     ]
    }
   ],
   "source": [
    "print_two('A', print_and_return('B', 'C', 'D'))"
   ]
  },
  {
   "cell_type": "code",
   "execution_count": 12,
   "id": "db0838b8",
   "metadata": {},
   "outputs": [
    {
     "name": "stdout",
     "output_type": "stream",
     "text": [
      "1\n"
     ]
    }
   ],
   "source": [
    "# 6-9 제어문\n",
    "def print_if_positive(number):\n",
    "    if number >= 0:\n",
    "        print(number)\n",
    "        \n",
    "# 숫자가 0보다 크거나 같을(>=) 경우 즉, 0 이상일 경우에만 숫자 출력\n",
    "print_if_positive(1)\n",
    "print_if_positive(-1)"
   ]
  },
  {
   "cell_type": "code",
   "execution_count": 13,
   "id": "0a60e5bf",
   "metadata": {},
   "outputs": [
    {
     "name": "stdout",
     "output_type": "stream",
     "text": [
      "+\n",
      "-\n"
     ]
    }
   ],
   "source": [
    "def print_whether_positive_or_negative(number):\n",
    "    if number >= 0:\n",
    "        print('+')\n",
    "    else:\n",
    "        print('-')\n",
    "        \n",
    "# 숫자가 0보다 크거나 같으면 +를, 작으면 -를 출력\n",
    "\n",
    "print_whether_positive_or_negative(1)\n",
    "print_whether_positive_or_negative(-1)"
   ]
  },
  {
   "cell_type": "code",
   "execution_count": 22,
   "id": "2a452562",
   "metadata": {},
   "outputs": [
    {
     "ename": "SyntaxError",
     "evalue": "invalid syntax (1002948884.py, line 1)",
     "output_type": "error",
     "traceback": [
      "\u001b[0;36m  File \u001b[0;32m\"/tmp/ipykernel_95/1002948884.py\"\u001b[0;36m, line \u001b[0;32m1\u001b[0m\n\u001b[0;31m    def print_whether_positive_or_negative _or_zero (number):\u001b[0m\n\u001b[0m                                           ^\u001b[0m\n\u001b[0;31mSyntaxError\u001b[0m\u001b[0;31m:\u001b[0m invalid syntax\n"
     ]
    }
   ],
   "source": [
    "def print_whether_positive_or_negative _or_zero (number):\n",
    "    if number > 0:\n",
    "        print('+')\n",
    "    elif number == 0:\n",
    "        print('0')\n",
    "    else:\n",
    "        print('-')\n",
    "# 숫자가 양수이면 +를 음수이면 -를 양수도 음수도 아닌 -일 경우 그대로 0 출력\n",
    "\n",
    "print_whether_positive_or_negative_or_zero(1)\n",
    "print_whether_positive_or_negative_or_zero(0)\n",
    "print_whether_positive_or_negative_or_zero(-1)"
   ]
  },
  {
   "cell_type": "code",
   "execution_count": 23,
   "id": "0b0fb506",
   "metadata": {},
   "outputs": [
    {
     "name": "stdout",
     "output_type": "stream",
     "text": [
      "+\n",
      "0\n",
      "-\n"
     ]
    }
   ],
   "source": [
    "def print_whether_positive_or_negative_or_zero(number):\n",
    "    if number > 0:\n",
    "        print('+')\n",
    "    elif number == 0:\n",
    "        print('0')\n",
    "    else:\n",
    "        print('-')\n",
    "#- 숫자가 양수이면 +를, 음수이면 -를, 양수도 음수도 아닌 0일 경우 그대로 0을 출력합니다.\n",
    "\n",
    "print_whether_positive_or_negative_or_zero(1)\n",
    "print_whether_positive_or_negative_or_zero(0)\n",
    "print_whether_positive_or_negative_or_zero(-1)"
   ]
  },
  {
   "cell_type": "code",
   "execution_count": 25,
   "id": "62a14790",
   "metadata": {},
   "outputs": [
    {
     "name": "stdout",
     "output_type": "stream",
     "text": [
      "2\n",
      "4\n"
     ]
    }
   ],
   "source": [
    "def print_if_positive_and_even(number):\n",
    "    if (number > 0) and (number % 2 == 0):\n",
    "        print(number)\n",
    "        \n",
    "print_if_positive_and_even(1)\n",
    "print_if_positive_and_even(-1)        \n",
    "print_if_positive_and_even(2)        \n",
    "print_if_positive_and_even(-2)        \n",
    "print_if_positive_and_even(4)        \n"
   ]
  },
  {
   "cell_type": "code",
   "execution_count": 26,
   "id": "6c3d52c3",
   "metadata": {},
   "outputs": [
    {
     "name": "stdout",
     "output_type": "stream",
     "text": [
      "1\n",
      "-1\n",
      "-2\n"
     ]
    }
   ],
   "source": [
    "def print_if_negative_or_odd(number):\n",
    "    if (number < 0 ) or (number % 2 != 0):\n",
    "        print(number)\n",
    "        \n",
    "print_if_negative_or_odd(1)\n",
    "print_if_negative_or_odd(-1)        \n",
    "print_if_negative_or_odd(2)        \n",
    "print_if_negative_or_odd(-2)        "
   ]
  },
  {
   "cell_type": "markdown",
   "id": "9c3aefb7",
   "metadata": {},
   "source": [
    "# 6-11. 제어문 (2) `while`: 조건이 참인 동안 반복"
   ]
  },
  {
   "cell_type": "code",
   "execution_count": 28,
   "id": "0e773804",
   "metadata": {},
   "outputs": [
    {
     "name": "stdout",
     "output_type": "stream",
     "text": [
      "1\n",
      "-1\n",
      "-2\n"
     ]
    }
   ],
   "source": [
    "def print_if_negative_or_odd(number):\n",
    "    if (number <= 0) or (number % 2 != 0):\n",
    "        print(number)\n",
    "        \n",
    "print_if_negative_or_odd(1)\n",
    "print_if_negative_or_odd(-1)        \n",
    "print_if_negative_or_odd(2)        \n",
    "print_if_negative_or_odd(-2)        "
   ]
  },
  {
   "cell_type": "code",
   "execution_count": 29,
   "id": "dcd1ff74",
   "metadata": {},
   "outputs": [
    {
     "name": "stdout",
     "output_type": "stream",
     "text": [
      "1\n",
      "1\n",
      "2\n",
      "3\n",
      "5\n",
      "8\n",
      "13\n",
      "21\n",
      "34\n",
      "55\n",
      "89\n",
      "144\n",
      "233\n",
      "377\n",
      "610\n",
      "987\n",
      "1597\n",
      "2584\n",
      "4181\n",
      "6765\n",
      "끝\n"
     ]
    }
   ],
   "source": [
    "def fibonacci(n):\n",
    "    if n <= 2:\n",
    "        return 1\n",
    "    else:\n",
    "        return fibonacci(n-2) + fibonacci(n-1)\n",
    "    \n",
    "n = 1    \n",
    "while n <= 20:\n",
    "    print(fibonacci(n))\n",
    "    n = n + 1\n",
    "print('끝')    "
   ]
  },
  {
   "cell_type": "markdown",
   "id": "61f432b4",
   "metadata": {},
   "source": [
    "while 문은 코드 블록을 실행하기 전 가장 먼저 조건문을 검사해서, 조건문이 참이면 코드 블록을 실행합니다.\n",
    "\n",
    "즉, 처음 실행 시 마지막 줄(4행)에서 n은 2가 되고, n <= 20이 참이니 다시 3행으로 돌아가 print(fibonacci(2))를 실행합니다. 그리고 다시 그다음 줄에서 n은 3이 되고, 다시 3행으로 돌아가고.. n이 21이 되면 그제서야 while에 속하는 들여쓰기 코드 블록을 빠져나와 print('끝!')을 실행합니다.\n",
    "\n",
    "이러한 반복문들을 루프(loop, 고리)라고 부릅니다. 그리고 반복문이 끝없이 계속 실행되는 경우를 무한 루프(infinite loop)라고 부릅니다. 예를 들어, 아래의 명령을 실행한다면 강제로 종료하기까지 영원히 계속 실행됩니다. "
   ]
  },
  {
   "cell_type": "markdown",
   "id": "3d72cfe3",
   "metadata": {},
   "source": [
    "# 6-12. 제어문 (3) `for`: 하나씩 반복\n",
    "파이썬에는 while 말고도 for이라는 반복문이 있습니다.\n",
    "\n",
    "while 뒤에는 참과 거짓이 갈릴 수 있는 명제가 온다면, for 뒤에는 a in A의 형태로, 값이 여러 개 들어있는 목록 A에서 값을 하나씩 꺼내서 a 변수에 담아 반복문을 실행합니다.\n",
    "\n",
    "설명이 어려우니 한번 예를 들어 이해해 보겠습니다.\n",
    "\n",
    "'Hi'라는 문자열을 뜯어보면 사실 'H'라는 문자와 'i'라는 문자가 순서대로 이어지는 형태를 가지고 있습니다. 즉, 'Hi' 안에는 'H'와 'i'라는 값이 하나씩 순서대로 들어있습니다."
   ]
  },
  {
   "cell_type": "code",
   "execution_count": 30,
   "id": "e3a73aa0",
   "metadata": {},
   "outputs": [
    {
     "name": "stdout",
     "output_type": "stream",
     "text": [
      "True\n"
     ]
    }
   ],
   "source": [
    "print('H' + 'i' == 'Hi')"
   ]
  },
  {
   "cell_type": "markdown",
   "id": "5f08241a",
   "metadata": {},
   "source": [
    "이렇게 줄줄이 굴비처럼 엮여서 하나씩 순서대로 넘길(iterate) 수 있는 값들을 반복 가능한(iterable, 이터러블) 객체 라고 합니다. for 루프를 써서 순서대로 엮인 값들을 하나씩 처리할 수 있습니다.\n",
    "\n",
    "그럼, 'Hello'의 글자를 하나씩 print() 해 봅시다."
   ]
  },
  {
   "cell_type": "code",
   "execution_count": 31,
   "id": "3106839d",
   "metadata": {},
   "outputs": [
    {
     "name": "stdout",
     "output_type": "stream",
     "text": [
      "H\n",
      "e\n",
      "l\n",
      "l\n",
      "o\n"
     ]
    }
   ],
   "source": [
    "for character in 'Hello':\n",
    "    print(character)"
   ]
  },
  {
   "cell_type": "markdown",
   "id": "0953d591",
   "metadata": {},
   "source": [
    "# 6-13. 자료형\n",
    "여태까지의 예제에서는 f(x) = y에서 변수 x에 들아갈 수 있는 값으로 숫자(0, 1, 2, ...)와 문자열('Hi', 'Hello')를 사용했습니다.\n",
    "\n",
    "그러나 파이썬에는 숫자와 문자열 외에도 다양한 종류의 '값'들이 있으며, 이러한 종류 하나하나를 자료형(data type) 이라고 합니다.\n",
    "\n",
    "또한 문자열은 반복이 가능(iterable) 하지만 숫자는 그렇지 않은 것처럼, 각 자료형마다 특징이 있습니다. 자료형 스텝 에서는 이러한 자료형들에 대해 알아볼 것입니다.\n",
    "\n",
    "참고로 값의 자료형이 무엇인지는 type() 함수를 통해 확인할 수 있습니다. 한번 숫자 1의 자료형이 무엇인지 확인해 봅시다. 🙇‍♀️"
   ]
  },
  {
   "cell_type": "code",
   "execution_count": 32,
   "id": "efb81488",
   "metadata": {},
   "outputs": [
    {
     "name": "stdout",
     "output_type": "stream",
     "text": [
      "<class 'int'>\n"
     ]
    }
   ],
   "source": [
    "print(type(1))"
   ]
  },
  {
   "cell_type": "code",
   "execution_count": 33,
   "id": "4899fa75",
   "metadata": {},
   "outputs": [
    {
     "name": "stdout",
     "output_type": "stream",
     "text": [
      "1.0\n",
      "<class 'float'>\n",
      "1\n",
      "<class 'int'>\n"
     ]
    }
   ],
   "source": [
    "print(float(1))\n",
    "print(type(float(1)))\n",
    "print(int(1.0))\n",
    "print(type(int(1.0)))"
   ]
  },
  {
   "cell_type": "markdown",
   "id": "7f6367b1",
   "metadata": {},
   "source": [
    "불리언 값들은 주로 if 비교문에서처럼 명제의 참/거짓 여부를 나타낼 때 사용됩니다. 즉, a == b라는 표현은 입력값 a와 b가 같다면 True를, 아니면 False를 반환하는 함수로 볼 수도 있습니다.\n",
    "\n",
    "불리언 값 앞에 not을 붙이면 참과 거짓을 뒤집을 수도 있습니다.\n",
    "\n",
    "불리언 값들은 주로 if 비교문에서처럼 명제의 참/거짓 여부를 나타낼 때 사용됩니다. 즉, a == b라는 표현은 입력값 a와 b가 같다면 True를, 아니면 False를 반환하는 함수로 볼 수도 있습니다.\n",
    "\n",
    "불리언 값 앞에 not을 붙이면 참과 거짓을 뒤집을 수도 있습니다."
   ]
  },
  {
   "cell_type": "code",
   "execution_count": 34,
   "id": "a1e389dc",
   "metadata": {},
   "outputs": [
    {
     "name": "stdout",
     "output_type": "stream",
     "text": [
      "False\n",
      "False\n",
      "True\n"
     ]
    }
   ],
   "source": [
    "print(bool(None))\n",
    "print(bool(0))\n",
    "print(bool(1.1))"
   ]
  },
  {
   "cell_type": "code",
   "execution_count": 36,
   "id": "6eb3d9fb",
   "metadata": {},
   "outputs": [
    {
     "name": "stdout",
     "output_type": "stream",
     "text": [
      "Quote(') and double quote(=\")\n"
     ]
    }
   ],
   "source": [
    "print('Quote(\\') and double quote(=\")')"
   ]
  },
  {
   "cell_type": "code",
   "execution_count": 39,
   "id": "8982a29a",
   "metadata": {},
   "outputs": [
    {
     "name": "stdout",
     "output_type": "stream",
     "text": [
      "Hello Jane\n"
     ]
    }
   ],
   "source": [
    "print('Hello '  'Jane')"
   ]
  },
  {
   "cell_type": "code",
   "execution_count": 40,
   "id": "569c7227",
   "metadata": {},
   "outputs": [
    {
     "name": "stdout",
     "output_type": "stream",
     "text": [
      " Line1\n",
      "Line2\n"
     ]
    }
   ],
   "source": [
    "print(\"\"\" Line1\n",
    "Line2\"\"\")"
   ]
  },
  {
   "cell_type": "code",
   "execution_count": 41,
   "id": "18883873",
   "metadata": {},
   "outputs": [
    {
     "name": "stdout",
     "output_type": "stream",
     "text": [
      "H\n",
      "e\n",
      "l\n",
      "l\n",
      "o\n"
     ]
    }
   ],
   "source": [
    "# 참고로 문자열도 글자가 여러 개 연이어 있기에, for 루프를 사용할 수 있는 반복 가능한 객체다.\n",
    "for character in 'Hello':\n",
    "    print(character)"
   ]
  },
  {
   "cell_type": "markdown",
   "id": "b3b4653d",
   "metadata": {},
   "source": [
    "특히 값들이 순서대로 들어있는 반복 가능한 객체 중에서도 유한한 길이를 갖는 자료형들을 파이썬에서는 컨테이너(container) 자료형이라고 부릅니다. 이런 컨테이너 자료형들은 뒤에 [숫자]를 붙여서 해당 순서 인덱스(index) 에 해당하는 값만 쏙 뽑아올 수 있습니다.\n",
    "\n",
    "주의할 점은, 순서가 0부터 시작한다는 점입니다. ❕"
   ]
  },
  {
   "cell_type": "code",
   "execution_count": 45,
   "id": "f52ad4f2",
   "metadata": {},
   "outputs": [
    {
     "name": "stdout",
     "output_type": "stream",
     "text": [
      "e\n"
     ]
    }
   ],
   "source": [
    "message = 'Hello'\n",
    "print(message[1])"
   ]
  },
  {
   "cell_type": "code",
   "execution_count": 46,
   "id": "52fc04da",
   "metadata": {},
   "outputs": [
    {
     "name": "stdout",
     "output_type": "stream",
     "text": [
      "o\n"
     ]
    }
   ],
   "source": [
    "# 뒤에서의 순서로 뽑고 싶다면 음수를 주면 됩니다.\n",
    "message = 'Hello'\n",
    "print(message[-1])"
   ]
  },
  {
   "cell_type": "code",
   "execution_count": 47,
   "id": "efc052f7",
   "metadata": {},
   "outputs": [
    {
     "name": "stdout",
     "output_type": "stream",
     "text": [
      "Hell\n"
     ]
    }
   ],
   "source": [
    "# :를 써서 [n:m]처럼 n번째부터 m번 직전까지를 한 번에 뽑아올 수도 있습니다.\n",
    "# 이를 치즈를 잘라먹는 것처럼 슬라이스(slice)라고 합니다.\n",
    "\n",
    "message = 'Hello'\n",
    "print(message[0:4])"
   ]
  },
  {
   "cell_type": "code",
   "execution_count": 48,
   "id": "ca1787bd",
   "metadata": {},
   "outputs": [
    {
     "name": "stdout",
     "output_type": "stream",
     "text": [
      "llo\n"
     ]
    }
   ],
   "source": [
    "# 혹은 : 앞이나 뒤를 생략해서 여기서부터 끝까지 다 내놓으라고 할 수도 있습니다.\n",
    "message = 'Hello'\n",
    "print(message[2:])"
   ]
  },
  {
   "cell_type": "code",
   "execution_count": 49,
   "id": "22ffda1c",
   "metadata": {},
   "outputs": [
    {
     "name": "stdout",
     "output_type": "stream",
     "text": [
      "Hello\n",
      "Hell\n",
      "Hlo\n"
     ]
    }
   ],
   "source": [
    "# 두 칸씩 띄어서 보고 싶으면 어떻게 할까요?\n",
    "message = 'Hello'\n",
    "print(message[::1])  # 기본 한칸씩\n",
    "print(message[:-1:1])   # 기본 한칸씩\n",
    "print(message[::2])     # 두칸씩"
   ]
  },
  {
   "cell_type": "markdown",
   "id": "151fa77a",
   "metadata": {},
   "source": [
    "아하! 위 코드를 돌려보니 start:end-1:step 의 형식으로 이뤄져 있는 걸 알 수 있습니다. 그렇다면 거꾸로 된 글자를 뽑으려면 어떻게 할까요?\n",
    "\n",
    "step 부분을 건드려주면 어떨까요? 시작과 끝은 냅두고... step=-1로 줘볼게요!"
   ]
  },
  {
   "cell_type": "code",
   "execution_count": 50,
   "id": "f20683ed",
   "metadata": {},
   "outputs": [
    {
     "name": "stdout",
     "output_type": "stream",
     "text": [
      "olleH\n"
     ]
    }
   ],
   "source": [
    "message = 'Hello'\n",
    "print(message[::-1])  # 거꾸로 출력"
   ]
  },
  {
   "cell_type": "markdown",
   "id": "493c8d81",
   "metadata": {},
   "source": [
    "# 6-19. 자료형 (6) 튜플과 리스트_`tuple`, `list`\n",
    "'글자 외에 숫자와 다른 객체들도 여러 개 줄줄이 꿰고 싶다!' 하시는 분들을 위해 준비된 또 다른 컨테이너 자료형이 있습니다.😎\n",
    "\n",
    "튜플(tuple)과 리스트(list)입니다.\n",
    "\n",
    "튜플의 경우에는 괄호() 안에 원하는 값들을 쉼표(,)로 구분해서 써주면 됩니다.\n",
    "\n"
   ]
  },
  {
   "cell_type": "code",
   "execution_count": 51,
   "id": "991a7f31",
   "metadata": {},
   "outputs": [
    {
     "name": "stdout",
     "output_type": "stream",
     "text": [
      "1\n",
      "2\n",
      "3\n"
     ]
    }
   ],
   "source": [
    "numbers = (1, 2, 3)\n",
    "for number in numbers:\n",
    "    print(number)"
   ]
  },
  {
   "cell_type": "code",
   "execution_count": 52,
   "id": "bbfdd5c1",
   "metadata": {},
   "outputs": [],
   "source": [
    "# 물론 숫자만 들어가라는 법은 없고, 문자든 어떤 값이든 넣어도 됩니다.\n",
    "mixed_tuple = ('Hello', 0, True)"
   ]
  },
  {
   "cell_type": "code",
   "execution_count": 53,
   "id": "85e77584",
   "metadata": {},
   "outputs": [
    {
     "name": "stdout",
     "output_type": "stream",
     "text": [
      "1\n"
     ]
    }
   ],
   "source": [
    "# 튜플도 문자열처럼 [색인] 문법을 써서 특정 위치의 값을 읽을 수 있습니다.\n",
    "tuple_123 = (1, 2, 3)\n",
    "print(tuple_123[0])"
   ]
  },
  {
   "cell_type": "code",
   "execution_count": 54,
   "id": "29df510c",
   "metadata": {},
   "outputs": [
    {
     "ename": "TypeError",
     "evalue": "'tuple' object does not support item assignment",
     "output_type": "error",
     "traceback": [
      "\u001b[0;31m---------------------------------------------------------------------------\u001b[0m",
      "\u001b[0;31mTypeError\u001b[0m                                 Traceback (most recent call last)",
      "\u001b[0;32m/tmp/ipykernel_95/3133504038.py\u001b[0m in \u001b[0;36m<module>\u001b[0;34m\u001b[0m\n\u001b[1;32m      1\u001b[0m \u001b[0;31m# 물론 숫자만 들어가라는 법은 없고, 문자든 어떤 값이든 넣어도 됩니다.\u001b[0m\u001b[0;34m\u001b[0m\u001b[0;34m\u001b[0m\u001b[0m\n\u001b[1;32m      2\u001b[0m \u001b[0mtuple_123\u001b[0m \u001b[0;34m=\u001b[0m \u001b[0;34m(\u001b[0m\u001b[0;36m1\u001b[0m\u001b[0;34m,\u001b[0m \u001b[0;36m2\u001b[0m\u001b[0;34m,\u001b[0m \u001b[0;36m3\u001b[0m\u001b[0;34m)\u001b[0m\u001b[0;34m\u001b[0m\u001b[0;34m\u001b[0m\u001b[0m\n\u001b[0;32m----> 3\u001b[0;31m \u001b[0mtuple_123\u001b[0m\u001b[0;34m[\u001b[0m\u001b[0;36m0\u001b[0m\u001b[0;34m]\u001b[0m \u001b[0;34m=\u001b[0m \u001b[0;36m0\u001b[0m\u001b[0;34m\u001b[0m\u001b[0;34m\u001b[0m\u001b[0m\n\u001b[0m",
      "\u001b[0;31mTypeError\u001b[0m: 'tuple' object does not support item assignment"
     ]
    }
   ],
   "source": [
    "# 하지만 값을 변경할 수는 없습니다. 아래 코드는 에러가 납니다.\n",
    "tuple_123 = (1, 2, 3)\n",
    "tuple_123[0] = 0 "
   ]
  },
  {
   "cell_type": "code",
   "execution_count": 57,
   "id": "8c15aabf",
   "metadata": {},
   "outputs": [
    {
     "name": "stdout",
     "output_type": "stream",
     "text": [
      "3\n"
     ]
    }
   ],
   "source": [
    "# 튜플 안에 튜플을 넣을 수도 있다. 이런 경우에는 [n] 문법을 연이어 써서 튜플 안의 값을 가져올 수 있다.\n",
    "nested_tuple = ((1, 2), (3, 4))\n",
    "print(nested_tuple[1][0])"
   ]
  },
  {
   "cell_type": "code",
   "execution_count": 58,
   "id": "e664f95a",
   "metadata": {},
   "outputs": [
    {
     "name": "stdout",
     "output_type": "stream",
     "text": [
      "(1, 2, 3, 4)\n"
     ]
    }
   ],
   "source": [
    "# 튜플끼리 덧셈 연산자를 통해 합칠 수도 있습니다.\n",
    "\n",
    "tuple_a = (1, 2)\n",
    "tuple_b = (3, 4)\n",
    "print(tuple_a + tuple_b)"
   ]
  },
  {
   "cell_type": "code",
   "execution_count": 61,
   "id": "2f6211dc",
   "metadata": {},
   "outputs": [
    {
     "name": "stdout",
     "output_type": "stream",
     "text": [
      "True\n",
      "False\n"
     ]
    }
   ],
   "source": [
    "# in 연산자를 써서 특정한 값이 튜플 안에 있는지 없는지도 검사할 수 있습니다.\n",
    "\n",
    "tuple_abc = ('a', 'b', 'c')\n",
    "print('a' in tuple_abc)\n",
    "print('d' in tuple_abc)"
   ]
  },
  {
   "cell_type": "markdown",
   "id": "dfb4b91e",
   "metadata": {},
   "source": [
    "리스트만이 가진 또 다른 기능이 있습니다.\n",
    "\n",
    "변수를 한 번 정의해놓고 변수명 뒤에 .append()라는 특별한 함수를 뒤에 붙여서 값을 하나씩 추가하거나, .remove()를 통해 특정 값을 빼거나, .pop()을 통해 특정 순서의 값을 뺄 수 있다는 점입니다."
   ]
  },
  {
   "cell_type": "code",
   "execution_count": 62,
   "id": "3c6aef79",
   "metadata": {},
   "outputs": [
    {
     "name": "stdout",
     "output_type": "stream",
     "text": [
      "[1, 2, 3, 4]\n",
      "[1, 2, 3]\n",
      "[2, 3]\n"
     ]
    }
   ],
   "source": [
    "list_123 = [1, 2, 3]\n",
    "list_123.append(4)\n",
    "print(list_123)\n",
    "\n",
    "list_123.remove(4)\n",
    "print(list_123)\n",
    "\n",
    "list_123.pop(0)\n",
    "print(list_123)"
   ]
  },
  {
   "cell_type": "markdown",
   "id": "8147098b",
   "metadata": {},
   "source": [
    "# 6-20. 자료형 (7) 딕셔너리_dictionary, `dict`\n",
    "딕셔너리(dictionary)도 값을 여러 개 포함하는 컨테이너 자료형의 일종입니다.\n",
    "리스트와 차이점은 숫자로 된 인덱스를 쓰는 대신, 직접 인덱스를 원하는 대로 지정할 수 있다는 점입니다."
   ]
  },
  {
   "cell_type": "code",
   "execution_count": 63,
   "id": "d9f0bded",
   "metadata": {},
   "outputs": [
    {
     "name": "stdout",
     "output_type": "stream",
     "text": [
      "단테\n"
     ]
    }
   ],
   "source": [
    "conductor = {'first_name':'단테', 'last_name': '안'}\n",
    "print(conductor['first_name'])"
   ]
  },
  {
   "cell_type": "markdown",
   "id": "c561e29e",
   "metadata": {},
   "source": [
    "### 위의 코드에서 'first_name'와 'last_name'은 각각 인덱스 또는 딕셔너리의 키(key)들이고, '단테'와 '안'은 각각 해당 키의 값(value)입니다. 문법적으로는 중괄호({, }) 안에서 쉼표(,)로 각 항목(item)을 나누고, 항목 별로 쌍점(:)을 써서 키와 값을 나눕니다."
   ]
  },
  {
   "cell_type": "code",
   "execution_count": 64,
   "id": "039cdbbf",
   "metadata": {},
   "outputs": [
    {
     "name": "stdout",
     "output_type": "stream",
     "text": [
      "{'first_name': '단테', 'last_name': '안', 'gender': 'male'}\n"
     ]
    }
   ],
   "source": [
    "# 딕셔너리에 새로운 값을 추가하고 싶다면 그냥 새로운 키를 넣으면 됩니다.\n",
    "\n",
    "conductor = {'first_name':'단테', 'last_name': '안'}\n",
    "conductor['gender'] = 'male'\n",
    "print(conductor)"
   ]
  },
  {
   "cell_type": "code",
   "execution_count": 65,
   "id": "e682925d",
   "metadata": {},
   "outputs": [
    {
     "name": "stdout",
     "output_type": "stream",
     "text": [
      "{'first_name': '단테'}\n"
     ]
    }
   ],
   "source": [
    "# 제거하고 싶다면 리스트와 마찬가지로 .pop()을 사용하면 됩니다.\n",
    "\n",
    "conductor = {'first_name':'단테', 'last_name': '안'}\n",
    "conductor.pop('last_name')\n",
    "print(conductor)\n"
   ]
  },
  {
   "cell_type": "code",
   "execution_count": 66,
   "id": "d466de00",
   "metadata": {},
   "outputs": [
    {
     "name": "stdout",
     "output_type": "stream",
     "text": [
      "first_name\n",
      "last_name\n"
     ]
    }
   ],
   "source": [
    "# 딕셔너리에 for 루프문을 사용하면 기본적으로 키값만 돌려줍니다.\n",
    "\n",
    "conductor = {'first_name': '단테', 'last_name': '안'}\n",
    "for key in conductor:\n",
    "    print(key)"
   ]
  },
  {
   "cell_type": "code",
   "execution_count": 67,
   "id": "9cecc4f0",
   "metadata": {},
   "outputs": [
    {
     "name": "stdout",
     "output_type": "stream",
     "text": [
      "first_name : 단테\n",
      "last_name : 안\n"
     ]
    }
   ],
   "source": [
    "# .items()를 사용해서 키와 값을 둘 다 뽑아올 수도 있습니다.\n",
    "conductor = {'first_name': '단테', 'last_name': '안'}\n",
    "for key, value in conductor.items():\n",
    "    print(key + ' : ' + value)"
   ]
  },
  {
   "cell_type": "markdown",
   "id": "5dcb2afd",
   "metadata": {},
   "source": [
    "함수(function): 불려진 시점에 특정한 작업을 수행하며, 입력값과 출력값(반환값)을 가질 수 있습니다.\n",
    "인자(argument): 함수를 호출할 때 전달하는 입력값입니다.\n",
    "매개변수(parameter): 함수가 실행될 때 입력값이 들어올 변수입니다.\n",
    "반환값(return value): 함수가 종료될 때 호출 지점으로 전달할 출력값입니다.\n",
    "변수(variable): 값을 가리키는 이름입니다.\n",
    "스코프(scope): 변수가 유효한 범위입니다.\n",
    "연산자(operator): 주어진 값들에 대해 정해진 연산을 수행합니다.\n",
    "수리 연산자(mathematical operator): +, -, *, /, //, **\n",
    "비교 연산자(comparison operator): ==, !=, <, >, <=, >=, is\n",
    "논리 연산자(logical operator): and, or\n",
    "소속 연산자(membership operator): in\n",
    "제어문(control statements): 코드 블록의 흐름(실행 여부, 반복)을 제어합니다.\n",
    "if: 명제가 참이면 실행합니다.\n",
    "else: if 명제 이외의 경우에 실행합니다.\n",
    "elif: if 명제 이외의 경우에 또 다른 명제가 참일 경우에 실행합니다.\n",
    "while: 명제가 참일 동안 반복합니다.\n",
    "for: 주어진 값들 하나씩 반복합니다.\n",
    "자료형(data types): 값들의 종류를 나타냅니다.\n",
    "정수(int), 부동소수점 수(float), 불리언(bool), 문자열(str), 튜플(tuple), 리스트(list), 딕셔너리(dict)\n"
   ]
  },
  {
   "cell_type": "markdown",
   "id": "c91740ce",
   "metadata": {},
   "source": [
    "# 6-22. 재귀함수와 치킨 (심화)\n",
    "여기까지 배운 내용을 토대로 이제 재귀함수(recursive function) 라는 고오급 스킬을 구사할 수 있습니다. 재귀 함수란, 함수 내에서 그 함수 스스로를 사용하는 인셉션 같은 함수 종류입니다. 즉, def f(): 안의 코드 블럭에서 f()를 호출한다면, 그 함수는 재귀 함수입니다.\n",
    "\n",
    "이 재귀 함수가 유용한 한 가지 예제는 피보나치 수열의 n번째 숫자를 찾는 작업입니다. 피보나치 수열은 앞의 두 숫자를 더한 수가 다음 수가 되는 무한수열이며, 황금비율로도 잘 알려져 있습니다.\n",
    "\n",
    "1, 1, 2, 3, 5, 8, 13, 21, ...\n",
    "\n",
    "세상 만물에서 황금비율을 찾아볼 수 있습니다.\n",
    "\n",
    "피보나치 수열이 그 빛을 발할 때에는 사람 수에 따른 최적의 치킨 수를 구할 때입니다. 즉, 피보나치 수열의 n번째 숫자만큼의 사람이 있다면, n-1번째 피보나치 숫자만큼 주문하면 됩니다. 즉, 1명일 때는 1마리, 2명일 때는 1마리, 3명일 때는 2마리, 5명일 때는 3마리... 직접 계산할 필요가 없도록 이미 무료 온라인 서비스가 제공되고 있으나, 연습 삼아 한번 직접 만들어봅시다.\n",
    "\n",
    "남기지 않는다. 치킨. 피보나치킨!\n",
    "우리가 궁극적으로 만들고자 하는 함수는 사람 수를 입력하면 필요한 치킨 마리 수를 반환하는 함수 fibonachicken()입니다. 우선 그전 단계로, n번째 피보나치 수 number을 반환하는 함수 fibonacci()를 한번 만들어 봅시다.\n",
    "\n",
    "content img\n",
    "[fibonacci(4) 예시]\n"
   ]
  },
  {
   "cell_type": "markdown",
   "id": "e97ae6b5",
   "metadata": {},
   "source": [
    "# 6-23. fibonacci (심화)"
   ]
  },
  {
   "cell_type": "code",
   "execution_count": 73,
   "id": "299227ef",
   "metadata": {},
   "outputs": [],
   "source": [
    "def fibonacci(n):\n",
    "    if n <= 2:\n",
    "        number = 1\n",
    "    else:\n",
    "        number = fibonacci(n-1) + fibonacci(n-2)\n",
    "    return number"
   ]
  },
  {
   "cell_type": "code",
   "execution_count": 74,
   "id": "506d7b39",
   "metadata": {},
   "outputs": [
    {
     "name": "stdout",
     "output_type": "stream",
     "text": [
      "6765\n"
     ]
    }
   ],
   "source": [
    "print(fibonacci(20))"
   ]
  },
  {
   "cell_type": "markdown",
   "id": "2a91f2d2",
   "metadata": {},
   "source": [
    "# 6-24. 더 빠르게! (심화)\n",
    "만들어진 피보나치 함수에 한 가지 문제가 있습니다. 최초의 n이 커질수록 속도는 기하급수적으로 느려지는 점입니다. 제 노트북은 n이 40만 되어도 힘들어하네요. 어떻게 하면 개선할 수 있을까요?\n",
    "\n",
    "우선 왜 느려지는지 한번 생각해 봅시다. 우선 입력값이 1, 2일 경우에는 if문에 의해 fibonacci() 안에서 다시 fibonacci()를 부르는 일 없이 실행이 끝납니다. 하지만 입력값이 3이면, else문으로 빠져 fibonacci() 함수를 2번 더 불러야 합니다. 입력값이 4이면, fibonacci(3)과 fibonacci(2)를 불러야 하고, 여기서 fibonacci(3) 때문에 다시 fibonacci(2)와 fibonacci(1)을 또 부르고... 결국 우리가 짠 코드 상으로는 입력값 n에 대해 fibonacci()함수를 대략 2의 n 제곱 번 불러야 합니다.\n",
    "\n",
    "계산 횟수 자체도 문제지만, 한 번 불린 함수/입력값 조합이 반복적으로 불리기 때문에 이미 계산한 값을 다시 계산해야 한다는 비효율성도 있습니다. 한 번 계산된 값은 또 계산하지 않도록, 예를 들어 fibonacci(40)을 부를 때 fibonacci(4)의 값을 기억해 두고 처음 한 번만 계산하는 방법은 없을까요?\n",
    "\n",
    "변수의 스코프를 활용하면 가능합니다. 함수 밖에서 딕셔너리를 만들어서 한 번 계산된 값들을 기억하도록 만들어봅시다. 딕셔너리의 이름은 memory로 하겠습니다. 피보나치 순서 n이 키, 그 순서에 해당하는 피보나치 숫자가 값이 되도록 합니다. 여기에 일단 우리가 알고 있는 1번째 피보나치 수 1, 2번째 피보나치 수 1을 알려줍니다.\n",
    "\n",
    "짠! 완료되었습니다. 이제 fibonacci(n-1) + fibonacci(n-2)를 통해 구한 값은 memory에 저장됩니다. memory 변수를 새로 정의하는 것이 아니라 이미 있는 딕셔너리에 새로운 값을 추가하는 것이니, 함수 내부에서 똑같은 이름의 변수가 새로 만들어지는 문제도 피할 수 있습니다. 이제 한번 큰 숫자를 돌려서 체감상 차이가 있는지 한번 봅시다. 그리고 실제로 memory에 잘 저장이 되었는지 찍어봅시다.\n",
    "\n",
    "부드럽게 돌아갑니다! 프로그래밍에서 이렇게 중간 계산 값을 기억해놓고, 다시 계산하는 대신 값을 바로 읽어 쓰는 방식으로 계산 시간을 줄이는 기법을 메모이제이션(memoization) 이라고 합니다."
   ]
  },
  {
   "cell_type": "code",
   "execution_count": 77,
   "id": "6bc567f8",
   "metadata": {},
   "outputs": [
    {
     "name": "stdout",
     "output_type": "stream",
     "text": [
      "354224848179261915075\n",
      "{1: 1, 2: 1, 3: 2, 4: 3, 5: 5, 6: 8, 7: 13, 8: 21, 9: 34, 10: 55, 11: 89, 12: 144, 13: 233, 14: 377, 15: 610, 16: 987, 17: 1597, 18: 2584, 19: 4181, 20: 6765, 21: 10946, 22: 17711, 23: 28657, 24: 46368, 25: 75025, 26: 121393, 27: 196418, 28: 317811, 29: 514229, 30: 832040, 31: 1346269, 32: 2178309, 33: 3524578, 34: 5702887, 35: 9227465, 36: 14930352, 37: 24157817, 38: 39088169, 39: 63245986, 40: 102334155, 41: 165580141, 42: 267914296, 43: 433494437, 44: 701408733, 45: 1134903170, 46: 1836311903, 47: 2971215073, 48: 4807526976, 49: 7778742049, 50: 12586269025, 51: 20365011074, 52: 32951280099, 53: 53316291173, 54: 86267571272, 55: 139583862445, 56: 225851433717, 57: 365435296162, 58: 591286729879, 59: 956722026041, 60: 1548008755920, 61: 2504730781961, 62: 4052739537881, 63: 6557470319842, 64: 10610209857723, 65: 17167680177565, 66: 27777890035288, 67: 44945570212853, 68: 72723460248141, 69: 117669030460994, 70: 190392490709135, 71: 308061521170129, 72: 498454011879264, 73: 806515533049393, 74: 1304969544928657, 75: 2111485077978050, 76: 3416454622906707, 77: 5527939700884757, 78: 8944394323791464, 79: 14472334024676221, 80: 23416728348467685, 81: 37889062373143906, 82: 61305790721611591, 83: 99194853094755497, 84: 160500643816367088, 85: 259695496911122585, 86: 420196140727489673, 87: 679891637638612258, 88: 1100087778366101931, 89: 1779979416004714189, 90: 2880067194370816120, 91: 4660046610375530309, 92: 7540113804746346429, 93: 12200160415121876738, 94: 19740274219868223167, 95: 31940434634990099905, 96: 51680708854858323072, 97: 83621143489848422977, 98: 135301852344706746049, 99: 218922995834555169026, 100: 354224848179261915075}\n"
     ]
    }
   ],
   "source": [
    "memory = {1:1, 2:1}\n",
    "\n",
    "def fibonacci(n):\n",
    "    if n in memory:\n",
    "        number = memory[n]\n",
    "    else:\n",
    "        number = fibonacci(n-1) + fibonacci(n-2)\n",
    "        memory[n] = number\n",
    "    return number    \n",
    "\n",
    "print(fibonacci(100))\n",
    "\n",
    "print(memory)"
   ]
  },
  {
   "cell_type": "code",
   "execution_count": null,
   "id": "4431a713",
   "metadata": {},
   "outputs": [],
   "source": []
  }
 ],
 "metadata": {
  "kernelspec": {
   "display_name": "Python 3 (ipykernel)",
   "language": "python",
   "name": "python3"
  },
  "language_info": {
   "codemirror_mode": {
    "name": "ipython",
    "version": 3
   },
   "file_extension": ".py",
   "mimetype": "text/x-python",
   "name": "python",
   "nbconvert_exporter": "python",
   "pygments_lexer": "ipython3",
   "version": "3.9.7"
  }
 },
 "nbformat": 4,
 "nbformat_minor": 5
}
