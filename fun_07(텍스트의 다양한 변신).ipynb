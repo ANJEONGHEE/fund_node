{
 "cells": [
  {
   "cell_type": "markdown",
   "id": "3415b372",
   "metadata": {},
   "source": [
    "# 7-1. 들어가며\n",
    "## 학습 목표\n",
    "파이썬에서 텍스트 데이터를 어떻게 처리하는지 알아봅니다.\n",
    "파이썬에서 텍스트 파일과 디렉토리에 접근하는 방법을 알아봅니다.\n",
    "텍스트 파일의 종류를 살펴보고 다루는 방법을 각각 연습해 봅니다.\n",
    "\n",
    "## 목차\n",
    "텍스트 데이터를 문자열로 저장한다는 것\n",
    "인코딩과 디코딩\n",
    "문자열 다루기\n",
    "정규 표현식\n",
    "파일과 디렉터리\n",
    "파일\n",
    "디렉터리\n",
    "모듈과 패키지\n",
    "여러 가지 파일 포맷 다루기\n",
    "CSV 파일\n",
    "XML파일\n",
    "JSON 파일\n"
   ]
  },
  {
   "cell_type": "markdown",
   "id": "514fa326",
   "metadata": {},
   "source": [
    "# 7-2. 텍스트 데이터를 문자열로 저장한다는 것 (1) 인코딩과 디코딩\n",
    "텍스트 데이터를 문자열로 저장한다는 것\n",
    "우리 주변에는 수많은 텍스트 데이터가 있습니다.\n",
    "\n",
    "텍스트 데이터는 과연 어떻게 나타낼까요? 바로 문자열(string)로 표현합니다. 파이썬에서 문자열 리터럴(literal)은 작은따옴표(') 혹은 큰따옴표(\")로 묶인 일련의 문자라고 볼 수 있습니다.\n",
    "\n",
    "자, 일단 한번 텍스트 데이터를 변수에 저장해 출력해 볼까요?"
   ]
  },
  {
   "cell_type": "code",
   "execution_count": 1,
   "id": "9ab75120",
   "metadata": {},
   "outputs": [
    {
     "name": "stdout",
     "output_type": "stream",
     "text": [
      "Welcome!\n",
      "You're welcome.\n",
      "<class 'str'>\n",
      "<class 'str'>\n"
     ]
    }
   ],
   "source": [
    "my_str = 'Welcome!'\n",
    "ur_str = \"You're welcome.\"\n",
    "\n",
    "print(my_str)\n",
    "print(ur_str)\n",
    "\n",
    "print(type(my_str))\n",
    "print(type(ur_str))"
   ]
  },
  {
   "cell_type": "markdown",
   "id": "9ceded11",
   "metadata": {},
   "source": [
    "파이썬 내장함수 ord()와 chr()\n",
    "ord() : 해당 문자에 대응하는 유니코드 숫자를 반환합니다.\n",
    "chr() : 해당 유니코드 숫자에 대응하는 문자를 반환합니다."
   ]
  },
  {
   "cell_type": "code",
   "execution_count": 2,
   "id": "243eae79",
   "metadata": {},
   "outputs": [
    {
     "name": "stdout",
     "output_type": "stream",
     "text": [
      "97\n",
      "65\n",
      "a\n",
      "44032\n",
      "가\n"
     ]
    }
   ],
   "source": [
    "print(ord('a'))\n",
    "print(ord('A'))\n",
    "print(chr(97))\n",
    "print(ord('가'))\n",
    "print(chr(0xAC00))  # #- 0xAC00은 44032의 16진수 표현입니다."
   ]
  },
  {
   "cell_type": "markdown",
   "id": "837f19cc",
   "metadata": {},
   "source": [
    "파이썬에서 모든 문자열은 유니코드로 표현된다!\n",
    "문자열은 내부적으로 -엄밀히 말하면 파이썬 3부터- 유니코드 규약에 따릅니다. 이는 외부 데이터 및 데이터베이스로부터 데이터를 읽거나 보낼 때는 인코딩 혹은 디코딩 작업을 거쳐야 하며, 인코딩 규약은 내부적으로 유니코드(UTF-8)임을 의미합니다.\n",
    "\n",
    "파이썬 2에서 문자열은 인코딩 및 디코딩 여부와 상관없이 (regular) string, unicode string으로 구분되었고, 파이썬 3부터는 인코딩 혹은 디코딩이 되어 있는지로 구분되었습니다. \n",
    "\n",
    "파이썬 2에서는 인코딩한 후에도 아스키(ascii) → 유니코드(unicode) 변환 등의 작업을 거쳐야 했던 반면에,\n",
    "파이썬 3부터는 문자열이 무조건 유니코드로 인코딩되므로 해당 텍스트가 인코딩되어 있는지 혹은 디코딩되어 있는지만 고려하면 된다는 것이 포인트입니다."
   ]
  },
  {
   "cell_type": "code",
   "execution_count": 3,
   "id": "367ae4e6",
   "metadata": {},
   "outputs": [
    {
     "name": "stdout",
     "output_type": "stream",
     "text": [
      "<class 'bytes'> <class 'str'> <class 'str'>\n"
     ]
    }
   ],
   "source": [
    "#- 파이썬 3-#\n",
    "#- bytes와 string으로 구분됩니다.\n",
    "\n",
    "str1 = b'hello'\n",
    "str2 = 'hello'\n",
    "str3 = u'hello'\n",
    "print(type(str1), type(str2), type(str3))\n",
    "# 결과 : <class 'bytes'>,  <class 'str'>,  <class 'str'>"
   ]
  },
  {
   "cell_type": "markdown",
   "id": "9750f568",
   "metadata": {},
   "source": [
    "# 7-3. 텍스트 데이터를 문자열로 저장한다는 것 (2) 문자열 다루기\n",
    "이제부터 텍스트 데이터를 다루기 위한 사전 작업으로 파이썬 문자열(string)을 살펴볼 텐데요. 자주 쓰이는 메서드들을 예제와 함께 차근차근 알아가봅시다."
   ]
  },
  {
   "cell_type": "code",
   "execution_count": 4,
   "id": "2bdf167c",
   "metadata": {},
   "outputs": [
    {
     "ename": "SyntaxError",
     "evalue": "invalid syntax (4145611764.py, line 1)",
     "output_type": "error",
     "traceback": [
      "\u001b[0;36m  File \u001b[0;32m\"/tmp/ipykernel_13/4145611764.py\"\u001b[0;36m, line \u001b[0;32m1\u001b[0m\n\u001b[0;31m    s = 'I don't like Python!'\u001b[0m\n\u001b[0m               ^\u001b[0m\n\u001b[0;31mSyntaxError\u001b[0m\u001b[0;31m:\u001b[0m invalid syntax\n"
     ]
    }
   ],
   "source": [
    "s = 'I don't like Python!'"
   ]
  },
  {
   "cell_type": "code",
   "execution_count": 5,
   "id": "94c18148",
   "metadata": {},
   "outputs": [
    {
     "name": "stdout",
     "output_type": "stream",
     "text": [
      "사회적\n",
      "거리두기\n",
      "--------------------------\n",
      "사회적\t거리두기\n",
      "--------------------------\n",
      "오늘부터 '사회적 거리두기'\n"
     ]
    }
   ],
   "source": [
    "#- 줄 바꿈\n",
    "print(\"사회적\\n거리두기\")\n",
    "print('--------------------------')\n",
    "\n",
    "#- 탭(tab)\n",
    "print(\"사회적\\t거리두기\")\n",
    "print('--------------------------')\n",
    "\n",
    "#- 작은따옴표 포함\n",
    "print('오늘부터 \\'사회적 거리두기\\'')"
   ]
  },
  {
   "cell_type": "markdown",
   "id": "972e54ee",
   "metadata": {},
   "source": [
    "#### 원시 문자열\n",
    "그렇다면, 이스케이프 문자를 무시하고 싶을 때는 어떻게 해야 할까요? 이때 사용하는 것이 원시 문자열(raw string) 입니다. 문자열을 시작하는 따옴표 앞에 r을 붙이면 이스케이프 문자가 적용되지 않은 있는 그대로의 원시 문자열을 나타낼 수 있습니다.\n",
    "\n",
    "설명이 조금 난해하죠? 아래 예시 코드에서 출력된 두 문장을 비교해 보면 금방 이해하실 수 있을 거예요."
   ]
  },
  {
   "cell_type": "code",
   "execution_count": 6,
   "id": "54708fc0",
   "metadata": {},
   "outputs": [
    {
     "name": "stdout",
     "output_type": "stream",
     "text": [
      "Please don't touch it\n",
      "Please don\\'t touch it\n"
     ]
    }
   ],
   "source": [
    "#- 예제 코드2\n",
    "print('Please don\\'t touch it')\n",
    "print(r'Please don\\'t touch it')"
   ]
  },
  {
   "cell_type": "code",
   "execution_count": 7,
   "id": "c10526b1",
   "metadata": {},
   "outputs": [
    {
     "name": "stdout",
     "output_type": "stream",
     "text": [
      "['image5.png', 'image2.png', 'image12.png', 'image3.png', 'image8.png', 'image13.png', 'image6.png', 'image4.png', 'image14.png', 'image9.png', 'image10.png', 'image7.png', 'image11.png', 'image1.png']\n"
     ]
    }
   ],
   "source": [
    "import os\n",
    "image_dir_path = os.getenv(\"HOME\") + \"/data/pictures\"   \n",
    "# 각자의 사진이 보관된 디렉토리를 골라 주세요. \n",
    "# 클라우드의 경우에는 사진이 이미 있으므로 코드를 실행시켜주세요. \n",
    "photo = os.listdir(image_dir_path )\n",
    "png = [png for png in photo if png.endswith('.png')]\n",
    "print(png)"
   ]
  },
  {
   "cell_type": "markdown",
   "id": "c795ca07",
   "metadata": {},
   "source": [
    "#### 공백 문자 처리 : trimming\n",
    "컴퓨터의 스페이스 바(space bar)처럼 일상에서 자주 쓰고 접하는 띄어쓰기! 지금부터 살펴볼 공백 문자는 이 띄어쓰기로 표기되는 항목인데요. 문자열 작업에서는 다듬기 즉, trimming이라고 불립니다. 프로그래밍에서 인식하는 공백 문자는 어떤 것들이 있을까요? 한번 살펴봅시다.\n",
    "\n",
    "#### 여러 가지 공백 문자\n",
    "스페이스(space) : 한 칸 띄어쓰기\n",
    "탭(tab) \\t : 네 칸 띄어쓰기. 때에 따라 두 칸 띄어쓰기로 표기되기도 합니다.\n",
    "줄 바꿈(new line) : 줄 바꿈\n",
    "라인 피드 (line feed, 개행) \\n : 줄 바꿈을 엄밀히 말하면 라인 피드라고 합니다.\n",
    "캐리지 리턴 (carriage return, 복귀) \\r : 커서를 맨 앞으로 이동시키는 것, 즉 커서를 원위치로 복귀(return)한다는 뜻입니다. 커서를 맨 앞으로 보내고,\\r 뒤에 문자가 있으면 그 문자를 출력합니다."
   ]
  },
  {
   "cell_type": "code",
   "execution_count": 8,
   "id": "736b9653",
   "metadata": {},
   "outputs": [
    {
     "name": "stdout",
     "output_type": "stream",
     "text": [
      "사회적 거리두기\n",
      "--------------------------\n",
      "사회적\t거리두기\n",
      "--------------------------\n",
      "사회적\n",
      "거리두기\n",
      "--------------------------\n",
      "거리두기\n"
     ]
    }
   ],
   "source": [
    "print(\"사회적 거리두기\")\n",
    "print('--------------------------')\n",
    "print(\"사회적\\t거리두기\")\n",
    "print('--------------------------')\n",
    "print(\"사회적\\n거리두기\")\n",
    "print('--------------------------')\n",
    "print(\"사회적\\r거리두기\")"
   ]
  },
  {
   "cell_type": "code",
   "execution_count": 9,
   "id": "eeeed13b",
   "metadata": {},
   "outputs": [
    {
     "name": "stdout",
     "output_type": "stream",
     "text": [
      "[      Strip white spaces.      ]\n",
      "--------------------------\n",
      "[Strip white spaces.]\n",
      "--------------------------\n",
      "[Strip white spaces.      ]\n",
      "--------------------------\n",
      "[      Strip white spaces.]\n"
     ]
    }
   ],
   "source": [
    "# 공백 문자 제거하기(trimming) : 파이썬에서는 strip() 메서드를 사용해 공백 문자를 처리합니다.\n",
    "\n",
    "txt = \"      Strip white spaces.      \"\n",
    "print('[{}]'.format(txt))\n",
    "print('--------------------------')\n",
    "\n",
    "#- 양쪽 공백 제거 : strip()\n",
    "print('[{}]'.format(txt.strip()))\n",
    "print('--------------------------')\n",
    "\n",
    "#- 왼쪽 공백 제거 : lstrip()\n",
    "print('[{}]'.format(txt.lstrip()))\n",
    "print('--------------------------')\n",
    "\n",
    "#- 오른쪽 공백 제거 : rstrip()\n",
    "print('[{}]'.format(txt.rstrip()))"
   ]
  },
  {
   "cell_type": "markdown",
   "id": "766efc55",
   "metadata": {},
   "source": [
    "#### 대소문자 관련\n",
    "알파벳으로 구성된 문자열에서 대소문자를 쉽게 변경할 수 있는 방법이 있는데요. 한번 알아볼까요?\n",
    "\n",
    "upper() : 모든 문자를 대문자로 변환합니다.\n",
    "lower() : 모든 문자를 소문자로 변환합니다.\n",
    "capitalize() : 첫 글자만 대문자로 변환합니다."
   ]
  },
  {
   "cell_type": "markdown",
   "id": "7a0483f1",
   "metadata": {},
   "source": [
    "#### isX\n",
    "다음 소개해 드릴 메서드는 isX 형태의 메서드들인데요. 문자열의 구성에 따라 불린(boolean)의 값을 반환(return)해줍니다.\n",
    "\n",
    "isupper() : 문자열이 모두 대문자로만 되어 있으면 True, 그렇지 않으면 False를 반환\n",
    "islower() : 문자열이 모두 소문자로만 되어 있으면 True, 그렇지 않으면 False를 반환\n",
    "istitle(): 문자열의 첫 글자만 대문자로 되어 있으면 True, 그렇지 않으면 False를 반환\n",
    "isalpha(): 문자열이 모두 알파벳 문자로만 되어 있으면 True, 그렇지 않으면 False를 반환\n",
    "isalnum(): 문자열이 모두 알파벳 문자와 숫자로만 되어 있으면 True, 그렇지 않으면 False를 반환\n",
    "isdecimal(): 문자열이 모두 숫자로만 되어 있으면 True, 그렇지 않으면 False를 반환"
   ]
  },
  {
   "cell_type": "code",
   "execution_count": 10,
   "id": "603df0e2",
   "metadata": {},
   "outputs": [
    {
     "name": "stdout",
     "output_type": "stream",
     "text": [
      "False\n",
      "True\n",
      "False\n",
      "False\n",
      "True\n",
      "True\n"
     ]
    }
   ],
   "source": [
    "print(\"aiffel\".isupper())\n",
    "print(\"aiffel\".islower())\n",
    "print(\"PYTHON\".istitle())\n",
    "print(\"python101\".isalpha())\n",
    "print(\"python101\".isalnum())\n",
    "print(\"101\".isdecimal())"
   ]
  },
  {
   "cell_type": "markdown",
   "id": "6d6c2770",
   "metadata": {},
   "source": [
    "#### join()과 split()\n",
    "join()은 인자로 tuple, list, string 등 반복 가능한(iterable) 객체를 받는 메서드입니다. 이 join()은 각각의 원소를 모아 하나의 문자열로 합쳐 주는데요. 일단 한번 실행해 봅시다.\n",
    "\n",
    "\",\".join(stages)를 실행시켰을 때, 단어 사이에 쉼표(')가 들어가 있는 것을 볼 수 있죠? 큰따옴표 사이에는 구분자라는 것을 넣을 수 있습니다. 구분자로는 쉼표('), 언더바(_), 빈칸 등을 사용할 수 있어요. \"구분자\".join(stages)를 사용하면 리스트의 원소들 사이에 구분자를 넣어서 하나의 문자열로 합쳐줍니다. 다양한 구분자를 넣어서 실습해 보는 것은 어떨까요?\n",
    "\n",
    "split()은 반대로 하나의 문자열을 구분자를 기준으로 나누어 줍니다. 명시적으로 구분자를 지정하지 않으면 쉼표(,)를 기준으로 나누어 줍니다.\n",
    "자세히 보니 split()은 리스트를 반환하고 join()은 문자열을 반환한다는 차이가 보이네요. 기억해두면 좋겠죠?"
   ]
  },
  {
   "cell_type": "code",
   "execution_count": 12,
   "id": "f3622c33",
   "metadata": {},
   "outputs": [
    {
     "data": {
      "text/plain": [
       "'fundamentals,exploration,goingdeeper'"
      ]
     },
     "execution_count": 12,
     "metadata": {},
     "output_type": "execute_result"
    }
   ],
   "source": [
    "# join()\n",
    "\n",
    "stages = ['fundamentals', 'exploration', 'goingdeeper']\n",
    "\",\".join(stages)"
   ]
  },
  {
   "cell_type": "code",
   "execution_count": 13,
   "id": "f3d6c1cb",
   "metadata": {},
   "outputs": [
    {
     "data": {
      "text/plain": [
       "'fundamentals exploration goingdeeper'"
      ]
     },
     "execution_count": 13,
     "metadata": {},
     "output_type": "execute_result"
    }
   ],
   "source": [
    "# 큰따옴표 안에 다양한 구분자(빈칸, 언더바, 온점 등)를 넣어 보세요.\n",
    "\" \".join(stages)"
   ]
  },
  {
   "cell_type": "code",
   "execution_count": 14,
   "id": "0198141d",
   "metadata": {},
   "outputs": [
    {
     "data": {
      "text/plain": [
       "['fundamentals', ' exploration', ' goingdeeper']"
      ]
     },
     "execution_count": 14,
     "metadata": {},
     "output_type": "execute_result"
    }
   ],
   "source": [
    "# split()\n",
    "'fundamentals, exploration, goingdeeper'.split(',')"
   ]
  },
  {
   "cell_type": "markdown",
   "id": "baf4826a",
   "metadata": {},
   "source": [
    "#### replace()\n",
    "replace() : replace(s1, s2) 형태로 문자열 내 문자열 s1을 s2로 바꿉니다."
   ]
  },
  {
   "cell_type": "code",
   "execution_count": 16,
   "id": "d339df35",
   "metadata": {},
   "outputs": [
    {
     "data": {
      "text/plain": [
       "'You can do it!'"
      ]
     },
     "execution_count": 16,
     "metadata": {},
     "output_type": "execute_result"
    }
   ],
   "source": [
    "sent = 'I can do it!'\n",
    "sent.replace('I',  'You')"
   ]
  },
  {
   "cell_type": "markdown",
   "id": "2ec9a3b4",
   "metadata": {},
   "source": [
    "#### 불변(immutable)의 문자열\n",
    "mutable은 값이 변한다는 뜻이고, immutable은 반대로 값이 변하지 않는다는 의미이죠. 개념을 잠시 살펴볼까요?\n",
    "\n",
    "가변 객체(mutable object)\n",
    "객체를 생성한 후 객체의 값을 수정할 수 있습니다.\n",
    "변수는 값이 수정된 같은 객체를 가리키게 됩니다.\n",
    "e.g. list, set, dict\n",
    "불변 객체(immutable object)\n",
    "객체를 생성한 후 객체의 값을 수정할 수 없습니다.\n",
    "변수는 해당 값을 가진 다른 객체를 가리키게 됩니다.\n",
    "e.g. int, float, complex, bool, string, tuple, frozen set\n",
    "개념이 다소 난해해 한 번에 이해하기 어렵지요? 위 개념은 구구절절한 설명 대신 직관적인 예시들이 포함된 참고 자료를 소개하고 넘어가도록 하겠습니다. 아래 자료들을 살펴보시고 주변 동료들과 함께 토의해 보세요!\n",
    "\n",
    "Python 개념 정리 - 객체란 ( mutable vs immutable )\n",
    "[Python 변수] mutable과 immutable의 차이"
   ]
  },
  {
   "cell_type": "markdown",
   "id": "de7d3ef9",
   "metadata": {},
   "source": [
    "아래 두 개의 코드 블록을 비교해 보며, 지금까지 배운 메서드들을 왜 사용하는지 그리고 어떻게 사용해야 하는지를 각자 생각해 보는 시간을 가져 봅시다. id() 메서드를 사용하여 객체의 고유한 id를 확인해 보는 것도 도움이 될 것입니다. id(sent)를 실행해 보세요!\n",
    "-> 아래의 id(sent)는 변수 sent에 sent.upper()라는 새로운 객체를 대입해 객체의 값을 변경했기 때문에 위의 id(sent)와 값이 다르다."
   ]
  },
  {
   "cell_type": "code",
   "execution_count": 17,
   "id": "efdfa51e",
   "metadata": {},
   "outputs": [
    {
     "name": "stdout",
     "output_type": "stream",
     "text": [
      "I fell into AIFFEL\n",
      "139921312485904\n",
      "I fell into AIFFEL\n",
      "139921312485904\n"
     ]
    }
   ],
   "source": [
    "sent = 'I fell into AIFFEL'\n",
    "print(sent)\n",
    "print(id(sent))\n",
    "sent.upper()\n",
    "print(sent)\n",
    "print(id(sent))"
   ]
  },
  {
   "cell_type": "code",
   "execution_count": 18,
   "id": "3b797478",
   "metadata": {},
   "outputs": [
    {
     "name": "stdout",
     "output_type": "stream",
     "text": [
      "I fell into AIFFEL\n",
      "139921313062624\n",
      "I FELL INTO AIFFEL\n",
      "139921388980704\n"
     ]
    }
   ],
   "source": [
    "sent = 'I fell into AIFFEL'\n",
    "print(sent)\n",
    "print(id(sent))\n",
    "sent = sent.upper()\n",
    "print(sent)\n",
    "print(id(sent))"
   ]
  },
  {
   "cell_type": "markdown",
   "id": "d739c2d3",
   "metadata": {},
   "source": [
    "# 7-4. 텍스트 데이터를 문자열로 저장한다는 것 (3) 정규 표현식\n",
    "거의 모든 운영 체제가 어떤 특정한 단어를 검색할 때 자주 사용하는 단어 검색 기능 Ctrl+F을 지원하고 있는데요. 이러한 기능이 바로 정규 표현식(regular expression, regex)에 근거해 만들어진 기능이랍니다. 정규표현식은 이처럼 대부분의 운영 체제, 다양한 프로그래밍 언어, 그리고 텍스트 편집기와 같은 프로그램들이 지원하고 있습니다.\n",
    "\n",
    "## 문자열 vs 정규 표현식\n",
    "자, 'I can do it!'이라는 문장에서 I를 You로 바꾸고 싶습니다. 어떻게 하면 될까요? 가장 간단한 방법으로 앞에서 다룬 replace() 메서드를 이용할 수 있습니다.\n",
    "정규 표현식은 특정 규칙을 가진 문자열의 집합을 표현하는 형식 언어로, 찾고자 하는 문자열 패턴을 정의하고 기존 문자열과 일치하는지를 비교하여 문자열을 검색하거나 다른 문자열로 치환하는 데 사용됩니다.\n",
    "\n",
    "세상에는 패턴화된 문자열이 매우 많습니다. 이메일, 주민등록번호, 전화번호, 우편번호, URL 등등... 정말 방대하죠. 패턴화된 문자열이 나타날 때마다 startswith(), endswith(),replace() 등과 같은 문자열 메서드를 매번 사용하면 굉장히 버거울 거예요. 그러나 정규 표현식을 사용하면 간단하게 문자열 검색과 치환을 할 수 있습니다."
   ]
  },
  {
   "cell_type": "code",
   "execution_count": 20,
   "id": "427335ab",
   "metadata": {},
   "outputs": [
    {
     "data": {
      "text/plain": [
       "'You can do it!'"
      ]
     },
     "execution_count": 20,
     "metadata": {},
     "output_type": "execute_result"
    }
   ],
   "source": [
    "sent = 'I can do it!'\n",
    "rep = sent.replace(\"I\", \"You\")\n",
    "rep"
   ]
  },
  {
   "cell_type": "code",
   "execution_count": 22,
   "id": "1fb20d19",
   "metadata": {},
   "outputs": [
    {
     "data": {
      "text/plain": [
       "'You can do it!'"
      ]
     },
     "execution_count": 22,
     "metadata": {},
     "output_type": "execute_result"
    }
   ],
   "source": [
    "# 또 다른 방법이 바로 '정규 표현식'을 이용하는 것\n",
    "import re\n",
    "sent = 'I can do it!'\n",
    "pattern = re.sub(\"I\",  \"You\", sent)\n",
    "pattern"
   ]
  },
  {
   "cell_type": "markdown",
   "id": "46250b88",
   "metadata": {},
   "source": [
    "#### 정규 표현식 시작하기\n",
    "import re\n",
    "\n",
    "파이썬에서는 표준 라이브러리인 re 모듈을 import 해서 정규 표현식을 사용할 수 있습니다.\n",
    "\n",
    "#### Compile()\n",
    "\n",
    "정규 표현식의 사용법은 크게\n",
    "\n",
    "1) 찾고자 하는 문자열의 패턴을 정의하고\n",
    "\n",
    "2) 정의된 패턴과 매칭되는 경우를 찾아 다양한 처리를 하는\n",
    "\n",
    "2단계로 나누어집니다.\n",
    "이 중 1)에 해당하는 과정을 컴파일(compile)이라고 합니다.\n",
    "\n",
    "아래는 위 두 단계에 대한 간략한 예시 코드입니다."
   ]
  },
  {
   "cell_type": "code",
   "execution_count": 24,
   "id": "4e3fefd6",
   "metadata": {},
   "outputs": [
    {
     "data": {
      "text/plain": [
       "['the', 'the', 'the']"
      ]
     },
     "execution_count": 24,
     "metadata": {},
     "output_type": "execute_result"
    }
   ],
   "source": [
    "#1단계 :  \"the\"라는 패턴을 컴파일한 후 패턴 객체를 리턴합니다. \n",
    "pattern = re.compile(\"the\")\n",
    "\n",
    "# 2단계 : 컴파일된 패턴 객체를 활용하여 다른 텍스트에서 검색을 수행합니다.\n",
    "pattern.findall('of the people, for the people, by the people')"
   ]
  },
  {
   "cell_type": "code",
   "execution_count": 25,
   "id": "bcd684d5",
   "metadata": {},
   "outputs": [
    {
     "data": {
      "text/plain": [
       "['the', 'the', 'the']"
      ]
     },
     "execution_count": 25,
     "metadata": {},
     "output_type": "execute_result"
    }
   ],
   "source": [
    "# 하지만, 정규 표현식을 활용하기 위해 꼭 명시적으로 re.compile()을 호출해야 하는 것은 아닙니다. 아래 코드는 위에서 2단계로 수행했던 내역을 명시적 컴파일 과정 없이 한 줄로 동일하게 처리하고 있습니다.\n",
    "\n",
    "re.findall('the', 'of the people, for the people, by the people')\n",
    "\n",
    "# 아래쪽 경우가 간결해서 더 좋은 것 같습니다. 하지만 명시적으로 패턴 객체를 생성한 경우 해당 객체를 반복 사용 가능하다는 점이 장점이 될 때가 있습니다."
   ]
  },
  {
   "cell_type": "markdown",
   "id": "7c521313",
   "metadata": {},
   "source": [
    "#### 메서드\n",
    "정규 표현식의 객체를 컴파일했으니 이제 위 2단계에서 패턴 객체를 활용해서 호출 가능한 메서드와 속성을 알아볼 차례입니다. 많이 사용되고 있는 메서드들을 정리해 보았는데요. 한 번 가볍게 살펴봅시다.\n",
    "\n",
    "search() : 일치하는 패턴 찾기 (일치 패턴이 있으면 MatchObject를 반환합니다)\n",
    "match() : search()와 비슷하지만, 처음부터 패턴이 검색 대상과 일치해야 합니다.\n",
    "findall() : 일치하는 모든 패턴 찾기 (모든 일치 패턴을 리스트에 담아서 반환합니다)\n",
    "split() : 패턴으로 나누기\n",
    "sub() : 일치하는 패턴으로 대체하기\n",
    "아래는 search(), match() 등이 리턴하는 MatchObject가 가진 메서드입니다.\n",
    "\n",
    "group() : 실제 결과에 해당하는 문자열을 반환합니다"
   ]
  },
  {
   "cell_type": "code",
   "execution_count": 26,
   "id": "41b628de",
   "metadata": {},
   "outputs": [
    {
     "name": "stdout",
     "output_type": "stream",
     "text": [
      "<re.Match object; span=(0, 2), match='My'>\n",
      "My\n"
     ]
    }
   ],
   "source": [
    "src = \"My name is...\"\n",
    "regex = re.match(\"My\", src)\n",
    "print(regex)\n",
    "if regex:\n",
    "    print(regex.group())\n",
    "else:\n",
    "    print(\"No!\")"
   ]
  },
  {
   "cell_type": "code",
   "execution_count": 27,
   "id": "beb53aa7",
   "metadata": {},
   "outputs": [
    {
     "name": "stdout",
     "output_type": "stream",
     "text": [
      "None\n",
      "No!\n"
     ]
    }
   ],
   "source": [
    "src = \"My name is...\"\n",
    "regex = re.match(\"You\", src)\n",
    "print(regex)\n",
    "if regex:\n",
    "    print(regex.group())\n",
    "else:\n",
    "    print(\"No!\")"
   ]
  },
  {
   "cell_type": "markdown",
   "id": "45a0e766",
   "metadata": {},
   "source": [
    "#### 패턴 : 특수문자, 메타 문자\n",
    "패턴이야말로 정규 표현식을 강력하게 해주는 도구인데요. 특수문자 혹은 메타 문자라 불리는 []. -. . ? * + {} / 등을 이용해 특수한 패턴을 만들 수 있습니다. 자, 어떤 것들이 있는지 볼까요?\n",
    "\n",
    "[ ] : 문자\n",
    "- : 범위\n",
    ". : 하나의 문자\n",
    "? : 0회 또는 1회 반복\n",
    "* : 0회 이상 반복\n",
    "+ : 1회 이상 반복\n",
    "{m, n} : m ~ n\n",
    "\\d : 숫자, [0-9]와 동일\n",
    "\\D : 비 숫자, [^0-9]와 동일\n",
    "\\w : 알파벳 문자 + 숫자 + _, [a-zA-Z0-9_]와 동일\n",
    "\\W : 비 알파벳 문자 + 비숫자, [^a-zA-Z0-9_]와 동일\n",
    "\\s : 공백 문자, [ \\t\\n\\r\\f\\v]와 동일\n",
    "\\S : 비 공백 문자, [^ \\t\\n\\r\\f\\v]와 동일\n",
    "\\b : 단어 경계\n",
    "\\B : 비 단어 경계\n",
    "\\t : 가로 탭(tab)\n",
    "\\v : 세로 탭(vertical tab)\n",
    "\\f : 폼 피드\n",
    "\\n : 라인 피드(개행문자)\n",
    "\\r : 캐리지 리턴(원시 문자열)\n",
    "훑어만 보아도 이 많은 것들을 당장 외우기는 힘들어 보이네요. 그래서 이 중 몇 가지를 실습해 볼 예제를 준비해 보았습니다. 아래 실습을 통해 정규 표현식의 패턴들을 차근차근 익혀보도록 해요!\n",
    "\n",
    "예제\n",
    "패턴을 사용해야 할 때는 문자를 딱 정할 수는 없지만 규칙이 있을 때 입니다. 예를 들어 '2020'이나 '2021'처럼 특정 연도를 찾을 때는 re.compile(\"2020\")처럼 쓰면 되겠지만 1000년 이후의 연도를 모두 찾고 싶다면 어떻게 될까요? 위 표에서 숫자는 \\d에 해당하기 때문에 \\d\\d\\d\\d를 사용하면 숫자 4개가 연달아 있는 부분을 찾을 수 있겠네요. 그런데 1000년 이후이니까 맨 앞자리가 1이나 2이겠네요. 그럼 1~2를 뜻하는 [1-2]를 사용하고 뒤에 숫자 3개가 연달아 있도록 [1-2]\\d\\d\\d처럼 쓸 수 있어요.\n",
    "\n",
    "전화번호를 찾을 때도 이와 비슷합니다. 전화번호가 숫자 3자리 - 숫자 3자리 - 숫자 4자리로 이루어져 있다면 \\d\\d\\d와 \\d\\d\\d\\d를 적절히 이용하면 되겠어요. 중간에 -가 들어가야 하니 아래 코드처럼 쓸 수 있겠네요."
   ]
  },
  {
   "cell_type": "code",
   "execution_count": 28,
   "id": "74408eb6",
   "metadata": {},
   "outputs": [
    {
     "data": {
      "text/plain": [
       "['1993', '1995', '2019', '2000', '2002', '2013', '2015', '2017']"
      ]
     },
     "execution_count": 28,
     "metadata": {},
     "output_type": "execute_result"
    }
   ],
   "source": [
    "#- 연도(숫자)\n",
    "text = \"\"\"\n",
    "The first season of America Premiere League  was played in 1993. \n",
    "The second season was played in 1995 in South Africa. \n",
    "Last season was played in 2019 and won by Chennai Super Kings (CSK).\n",
    "CSK won the title in 2000 and 2002 as well.\n",
    "Mumbai Indians (MI) has also won the title 3 times in 2013, 2015 and 2017.\n",
    "\"\"\"\n",
    "pattern = re.compile(\"[1-2]\\d\\d\\d\")\n",
    "pattern.findall(text)"
   ]
  },
  {
   "cell_type": "code",
   "execution_count": 29,
   "id": "3b29c5cf",
   "metadata": {},
   "outputs": [
    {
     "name": "stdout",
     "output_type": "stream",
     "text": [
      "010-111-1111\n",
      "------\n"
     ]
    }
   ],
   "source": [
    "#- 전화번호(숫자, 기호)\n",
    "phonenumber = re.compile(r'\\d\\d\\d-\\d\\d\\d-\\d\\d\\d\\d')\n",
    "phone = phonenumber.search('This is my phone number 010-111-1111')\n",
    "if phone:\n",
    "  print(phone.group())\n",
    "print('------')\n",
    "phone = phonenumber.match ('This is my phone number 010-111-1111')\n",
    "if phone:\n",
    "  print(phone.group())"
   ]
  },
  {
   "cell_type": "markdown",
   "id": "4c77a701",
   "metadata": {},
   "source": [
    "그런데 search()와 달리 match()를 사용한 경우, 패턴과 검색 대상이 처음부터 일치하지 않으므로 아무것도 출력되지 않는 것을 볼 수 있어요.\n",
    "\n",
    "위에서 사용한 정규 표현식을 아래처럼 써도 결과는 같아요. \\d\\d\\d를 \\d{3}으로 바꿔서 숫자가 세 번 등장하는 것을 표현할 수 있습니다."
   ]
  },
  {
   "cell_type": "code",
   "execution_count": 30,
   "id": "da20886c",
   "metadata": {},
   "outputs": [
    {
     "name": "stdout",
     "output_type": "stream",
     "text": [
      "010-111-1111\n",
      "------\n"
     ]
    }
   ],
   "source": [
    "#- 전화번호(숫자, 기호)\n",
    "phonenumber = re.compile(r'\\d{3}-\\d{3}-\\d{4}')  # \\d{3}-이 두 번 반복 (\\d{3}-){2}로 바꿔도 됨\n",
    "phone = phonenumber.search('This is my phone number 010-111-1111')\n",
    "if phone:\n",
    "  print(phone.group())\n",
    "print('------')\n",
    "phone = phonenumber.match ('This is my phone number 010-111-1111')\n",
    "if phone:\n",
    "  print(phone.group())"
   ]
  },
  {
   "cell_type": "code",
   "execution_count": 31,
   "id": "ebe9cffc",
   "metadata": {},
   "outputs": [
    {
     "data": {
      "text/plain": [
       "['doingharu@aiffel.com', 'tomorrow@aiffel.com']"
      ]
     },
     "execution_count": 31,
     "metadata": {},
     "output_type": "execute_result"
    }
   ],
   "source": [
    "# 약간 복잡한 정규 표현식을 살펴보기\n",
    "#- 이메일(알파벳, 숫자, 기호)\n",
    "text = \"My e-mail adress is doingharu@aiffel.com, and tomorrow@aiffel.com\"\n",
    "pattern = re.compile(\"[0-9a-zA-Z]+@[0-9a-z]+\\.[0-9a-z]+\")\n",
    "pattern.findall(text)"
   ]
  },
  {
   "cell_type": "markdown",
   "id": "bff1167e",
   "metadata": {},
   "source": [
    "잘 파악이 안 된다면 @기호를 중심으로 앞부분과 뒷부분으로 나눠보세요. @ 앞에는 [0-9a-zA-Z]+이 나오고 뒤에는 [0-9a-z]+\\.[0-9a-z]+가 나오네요.\n",
    "\n",
    "앞부분 [0-9a-zA-Z]+를 보면 숫자 0~9, 알파벳 대소문자([0-9a-zA-Z])가 여러 번(+) 등장한다는 이야기네요. modu.lab@aiffel.com 형식의 메일 주소는 검출이 안 되겠어요.\n",
    "\n",
    "뒷부분 [0-9a-z]+\\.[0-9a-z]+은 다시 가운데 \\.을 중심으로 앞부분과 뒷부분으로 나눠볼 수 있을 텐데요. [0-9a-z]+은 숫자 0~9, 알파벳 소문자가 여러 번 나타난다는 의미네요. 이메일 사이트 주소에 해당하는 부분이군요! 다만 123.4567 처럼 .com외에 다양한 도메인이 허용이 되는 허점은 있겠네요.\n",
    "\n",
    "#### 구현 순서\n",
    "정규 표현식을 구현한 순서를 그림과 함께 간단히 정리하고 넘어가 봅시다. 패턴들이 덜 익숙한 것뿐 정규식의 구현 과정은 매우 간단한 것을 확인하실 수 있을 거예요.\n",
    "\n",
    "import re 를 통해 정규식 모듈을 가져옵니다.\n",
    "re.compile() 함수로 Regex 객체를 만듭니다.\n",
    "검색할 문자열을 Regex 객체의 search() , findall() 메소드로 전달합니다\n",
    "패턴 -> complie -> match(), findall(), search(), sub(), split()"
   ]
  },
  {
   "cell_type": "markdown",
   "id": "ae8a6bd8",
   "metadata": {},
   "source": [
    "# 7-5. 파일과 디렉터리 (1) 파일\n",
    "지금까지 텍스트 데이터를 문자열로 나타낸 후 변수에 저장했습니다. 변수에 저장되는 데이터는 컴퓨터 메모리에 저장됩니다. 메모리에 저장되는 데이터는 로드 및 액세스 속도가 빠르다는 장점이 있지만, 일정 전원이 공급되어야만 데이터가 보존됩니다. 즉, 프로그램이 실행되는 동안에만 데이터가 저장되죠.\n",
    "\n",
    "일상에서 파일(file)은 너무나도 익숙한 존재이죠? 사용자의 중요한 정보가 담긴 파일이 매번 휘발되어 없어지면 안 될 텐데요. 이러한 데이터를 영구적으로 보존할 필요가 있기 때문에 우리는 보조기억장치에 데이터를 저장합니다. 이것을 파일이라고 합니다.\n",
    "\n",
    "#### 파일 : write\n",
    "\n",
    "디스크 상에 저장된 파일을 읽거나, 수정하거나, 혹은 데이터를 파일로 저장하려면 어떻게 해야 할까요? 우선 열어야겠지요. 파일을 열고 객체로 만들어 주는 작업을 한번 해 보겠습니다."
   ]
  },
  {
   "cell_type": "code",
   "execution_count": 33,
   "id": "2b1e928c",
   "metadata": {},
   "outputs": [
    {
     "name": "stdout",
     "output_type": "stream",
     "text": [
      "완료!\n"
     ]
    }
   ],
   "source": [
    "f = open(\"hello.txt\", \"w\")\n",
    "# open(파일명, 파일모드)\n",
    "# 파일을 열고 파일 객체를 반환\n",
    "for i in range(10):\n",
    "    f.write(\"안녕\")\n",
    "    # write() 메서드로 '안녕'을 10번 쓰기\n",
    "f.close() # 작업이 끝나면 close() 메서드로 닫아주기, 필수!!\n",
    "print(\"완료!\")"
   ]
  },
  {
   "cell_type": "markdown",
   "id": "165d2419",
   "metadata": {},
   "source": [
    "#### read\n",
    "위에서 hello.txt 파일이 잘 만들어졌나요? 정상적으로 만들어졌다면 주피터 커널을 실행했던 경로에 생성되어 있을 것입니다. 파일 탐색기를 이용해 실제로 만들어진 것을 확인해 보세요.\n",
    "이번에는 파일을 읽어 보겠습니다. 방금 생성된 hello.txt 한번 읽어 볼까요?\n",
    "with 구문을 사용해서 파일을 열어서 파일 객체를 f로 받아서 f.read()를 통해 내용을 읽었는데요, f.close()를 명시적으로 호출하지 않고 있습니다. 이것은 실수가 아니라, with를 통해 open된 객체는 with 문이 종료될 때 자동으로 close 되는 것이 보장되기 때문입니다. 시스템 리소스의 안정적 사용을 위해 with 문 활용을 권장합니다."
   ]
  },
  {
   "cell_type": "code",
   "execution_count": 34,
   "id": "31d83dba",
   "metadata": {},
   "outputs": [
    {
     "name": "stdout",
     "output_type": "stream",
     "text": [
      "안녕안녕안녕안녕안녕안녕안녕안녕안녕안녕\n"
     ]
    }
   ],
   "source": [
    "with open(\"hello.txt\", \"r\") as f:\n",
    "    print(f.read())"
   ]
  },
  {
   "cell_type": "markdown",
   "id": "985b52b5",
   "metadata": {},
   "source": [
    "#### 파일 관련 메서드\n",
    "f.read() : 파일을 읽는다.\n",
    "f.readline() : 파일을 한 줄씩 읽는다.\n",
    "f.readlines() : 파일 안의 모든 줄을 읽어 그 값을 리스트로 반환한다.\n",
    "f.write(str) : 파일에 쓴다. 문자열 타입을 인자로 받는다.\n",
    "f.writelines(str) : 파일에 인자를 한 줄씩 쓴다.\n",
    "f.close() : 파일을 닫는다.\n",
    "f.seek(offset) : 해당 파일의 위치(offset)를 찾아 파일의 커서를 옮긴다. 파일의 처음 위치는 0이다.\n",
    "f.tell(): 현재 커서의 위치를 반환한다."
   ]
  },
  {
   "cell_type": "code",
   "execution_count": 35,
   "id": "64917f86",
   "metadata": {},
   "outputs": [],
   "source": [
    "quotes = [\"\\n안녕하세요.\\n\", \"반갑습니다.\\n\", \"오랫만입니다.\\n\"]\n",
    "\n",
    "with open(\"hello.txt\", \"a\") as f:              # 위에서 만든 파일에 이어서 씁니다. \n",
    "    f.writelines(quotes)"
   ]
  },
  {
   "cell_type": "code",
   "execution_count": 36,
   "id": "f71e96f7",
   "metadata": {},
   "outputs": [
    {
     "name": "stdout",
     "output_type": "stream",
     "text": [
      "위치 : 115\n",
      "['안녕안녕안녕안녕안녕안녕안녕안녕안녕안녕\\n', '안녕하세요.\\n', '반갑습니다.\\n', '오랫만입니다.\\n']\n",
      "----------------------------------------------------\n",
      "위치 : 10\n"
     ]
    }
   ],
   "source": [
    "with open('hello.txt', 'r') as f:\n",
    "    hello = f.readlines()\n",
    "    print(f'위치 : {f.tell()}')\n",
    "    print(hello)\n",
    "    print(\"----------------------------------------------------\")\n",
    "    f.seek(10)\n",
    "    print(f'위치 : {f.tell()}')"
   ]
  },
  {
   "cell_type": "markdown",
   "id": "bfc0227d",
   "metadata": {},
   "source": [
    "# 7-7. 파일과 디렉터리 (3) 모듈과 패키지\n",
    "파이썬 파일은 어디에 저장될까?\n",
    "파이썬에서는 지원하는 디렉터리 관련 표준 라이브러리는 다음과 같습니다.\n",
    "\n",
    "sys\n",
    "os\n",
    "glob\n",
    "이 모듈들을 import 해서 디렉터리 관련 작업을 하는 것이지요. 파이썬 프로그램의 실행 파일(python.exe)은 어디에 저장돼 있는지 확인해 보겠습니다."
   ]
  },
  {
   "cell_type": "code",
   "execution_count": 37,
   "id": "e742cd11",
   "metadata": {},
   "outputs": [
    {
     "data": {
      "text/plain": [
       "'/opt/conda/bin/python'"
      ]
     },
     "execution_count": 37,
     "metadata": {},
     "output_type": "execute_result"
    }
   ],
   "source": [
    "#- 현재 실행되고 있는 파이썬 실행 파일의 디렉터리를 반환합니다.\n",
    "import sys\n",
    "sys.executable"
   ]
  },
  {
   "cell_type": "markdown",
   "id": "dc8a3439",
   "metadata": {},
   "source": [
    "사실 실행 파일은 파이썬이 실행될 때 참조하는 것으로 운영 체제 및 파이썬 인터프리터가 참조하는 경로입니다. 따라서 실제로 프로그래밍할 때 이런 항목을 확인하지는 않지요. 우리가 필요한 것은 아마도 pip이나 conda 명령어를 통해 설치한 라이브러리 관련 파일의 위치를 확인하는 것일 거예요"
   ]
  },
  {
   "cell_type": "code",
   "execution_count": 38,
   "id": "fed98b4b",
   "metadata": {},
   "outputs": [
    {
     "data": {
      "text/plain": [
       "['/aiffel/aiffel',\n",
       " '/opt/conda/lib/python39.zip',\n",
       " '/opt/conda/lib/python3.9',\n",
       " '/opt/conda/lib/python3.9/lib-dynload',\n",
       " '',\n",
       " '/opt/conda/lib/python3.9/site-packages',\n",
       " '/opt/conda/lib/python3.9/site-packages/IPython/extensions',\n",
       " '/aiffel/.ipython']"
      ]
     },
     "execution_count": 38,
     "metadata": {},
     "output_type": "execute_result"
    }
   ],
   "source": [
    "#- 임포트할 때 불러 오는 모듈들이 위치한 경로입니다.\n",
    "sys.path"
   ]
  },
  {
   "cell_type": "markdown",
   "id": "7c9c87a8",
   "metadata": {},
   "source": [
    "#### 개념\n",
    "모듈(module) : 파이썬으로 만든 코드가 들어간 파일 .py\n",
    "\n",
    "패키지(package) : 기능적으로 동일하거나 동일한 결과를 만드는 모듈들의 집합 또는 폴더. 종종 라이브러리라고도 불림\n",
    "\n",
    "라이브러리(library) : 모듈과 패키지의 집합. 패키지보다 포괄적인 개념이나 패키지와 혼용되어 사용되기도 함.\n",
    "\n",
    "PIP(Package Installer for Python) : 패키지 관리자로 파이썬을 설치하면 기본으로 설치됨\n",
    "\n",
    "PyPA(Python Packaging Authority) : 파이선 패키지를 관리하고 유지하는 그룹\n",
    "\n",
    "PyPI(The Python Package Index) : 파이썬 패키지들의 저장소\n",
    "\n",
    "#### 함수\n",
    "sys.path : 현재 폴더와 파이썬 모듈들이 저장되는 위치를 리스트 형태로 반환\n",
    "sys.path.append() : 자신이 만든 모듈의 경로를 append 함수를 이용해서 추가함. 그 후 추가한 디렉터리에 있는 파이썬 모듈을 불러와 사용할 수 있다.\n",
    "os.chdir() : 디렉터리 위치 변경\n",
    "os.getcwd() : 현재 자신의 디렉터리 위치를 반환\n",
    "os.mkdir() : 디렉터리 생성\n",
    "os.rmdir() : 디렉터리 삭제 (단, 디렉터리가 비어 있을 경우)\n",
    "glob.glob() : 해당 경로 안의 디렉터리나 파일들을 리스트 형태로 반환\n",
    "os.path.join() : 경로(path)를 병합하여 새 경로 생성\n",
    "os.listdir() : 디렉터리 안의 파일 및 서브 디렉터리를 리스트 형태로 반환\n",
    "os.path.exists() : 파일 혹은 디렉터리의 경로 존재 여부 확인\n",
    "os.path.isfile() : 파일 경로의 존재 여부 확인\n",
    "os.path.isdir() : 디렉터리 경로의 존재 여부 확인\n",
    "os.path.getsize() : 파일의 크기 확인\n"
   ]
  },
  {
   "cell_type": "markdown",
   "id": "40db52d9",
   "metadata": {},
   "source": [
    "# 7-8. 여러가지 파일 포맷 다루기 (1) CSV 파일\n",
    "\n",
    "#### CSV\n",
    "CSV는 Comma Seperated Value의 약자로, 쉼표로 구분된 파일을 말합니다.\n",
    "\n",
    "각각의 칼럼(column)을 쉼표(,)로 구분하는데요. 간단한 csv 파일을 만들어 보겠습니다.\n",
    "\n",
    "아래 데이터는 빌보드 차트 1위~5위까지의 곡들입니다. 각 키(key)는 순위를, 값(value)은 곡명, 가수, 그리고 발매일에 대한 정보를 가지고 있네요. 코드 실행을 통해 billboardchart.csv 파일을 생성해 봅시다."
   ]
  },
  {
   "cell_type": "code",
   "execution_count": 39,
   "id": "524c7bd0",
   "metadata": {},
   "outputs": [
    {
     "name": "stdout",
     "output_type": "stream",
     "text": [
      "슝~\n"
     ]
    }
   ],
   "source": [
    "billboardchart = {\n",
    "  \t\t\t\t 1 : [\"Tho Box\",\"Roddy Ricch\",\"2019-12-19\"],\n",
    "                 2 : [\"Don't Start Now\", \"Dua Lipa\", \"2019-11-01\"],\n",
    "                 3 : [\"Life Is Good\", \"Future Featuring Drake\", \"2020-02-10\"],\n",
    "                 4 : [\"Blinding\", \"The Weeknd\", \"2019-11-29\"],\n",
    "                 5 : [\"Circles\", \"Post Malone\",\"2019-08-30\"]}\n",
    "\n",
    "with open(\"billboardchart.csv\",\"w\") as f:\n",
    "    for i in billboardchart.values():\n",
    "        data = \",\".join(i)\n",
    "        f.write(data+\"\\n\")\n",
    "\n",
    "print(\"슝~\")"
   ]
  },
  {
   "cell_type": "code",
   "execution_count": 40,
   "id": "b3196363",
   "metadata": {},
   "outputs": [
    {
     "name": "stdout",
     "output_type": "stream",
     "text": [
      "슝~\n"
     ]
    }
   ],
   "source": [
    "# csv 파일은 주피터 실행 경로에 저장되었다. 각 칼럼이 무엇을 의미하는지 추가하면 좋을 것 같은데요. \n",
    "# 첫 번째 줄에 title, singer, released date를 헤더로 추가해 본 후 다시 확인\n",
    "import csv\n",
    "\n",
    "header = [\"title\", \"singer\", \"released date\"]\n",
    "\n",
    "with open(\"billboardchart.csv\",\"r\") as inputfile:\n",
    "    with open(\"billboardchart_out.csv\",\"w\", newline='\\n') as outputfile:\n",
    "        fi = csv.reader(inputfile, delimiter=',')\n",
    "        fo = csv.writer(outputfile, delimiter=',')\n",
    "        fo.writerow(header)\n",
    "        for row in fi:\n",
    "            fo.writerow(row)\n",
    "\n",
    "print(\"슝~\")"
   ]
  },
  {
   "cell_type": "markdown",
   "id": "ef6df23e",
   "metadata": {},
   "source": [
    "#### CSV 파일과 Pandas\n",
    "판다스(pandas)의 DataFrame은 to_csv 메서드를 지원합니다. 이 메서드를 이용하면 csv 파일로 쉽게 저장할 수 있어요. 데이터를 준비한 뒤 판다스를 활용해 csv 파일로 저장해 보겠습니다."
   ]
  },
  {
   "cell_type": "code",
   "execution_count": 41,
   "id": "aeb36e8e",
   "metadata": {},
   "outputs": [
    {
     "name": "stdout",
     "output_type": "stream",
     "text": [
      "슝~\n"
     ]
    }
   ],
   "source": [
    "#- 1. 데이터를 준비합니다.\n",
    "fields = [\"title\", \"singer\", \"released date\"]\n",
    "rows = [ [\"Tho Box\",\"Roddy Ricch\",\"2019-12-19\"],\n",
    "               [\"Don't Start Now\", \"Dua Lipa\", \"2019-11-01\"],\n",
    "               [\"Life Is Good\", \"Future Featuring Drake\", \"2020-02-10\"],\n",
    "               [\"Blinding\", \"The Weeknd\", \"2019-11-29\"],\n",
    "               [\"Circles\", \"Post Malone\",\"2019-08-30\"]]\n",
    "\n",
    "print(\"슝~\")"
   ]
  },
  {
   "cell_type": "code",
   "execution_count": 42,
   "id": "ae91db5b",
   "metadata": {},
   "outputs": [
    {
     "name": "stdout",
     "output_type": "stream",
     "text": [
      "슝~\n"
     ]
    }
   ],
   "source": [
    "#- 2. 판다스를 이용해 데이터를 csv 파일로 저장합니다.\n",
    "import pandas as pd\n",
    "\n",
    "df=pd.DataFrame(rows, columns=fields)\n",
    "df.to_csv('pandas.csv',index=False)\n",
    "\n",
    "print(\"슝~\")"
   ]
  },
  {
   "cell_type": "code",
   "execution_count": 43,
   "id": "c17ce0f6",
   "metadata": {},
   "outputs": [
    {
     "name": "stdout",
     "output_type": "stream",
     "text": [
      "완료\n"
     ]
    }
   ],
   "source": [
    "#- 3. 동일한 내용을 csv.writer를 이용해 수행해 봅니다.\n",
    "import csv \n",
    "\n",
    "filename = \"test.csv\"\n",
    "with open(filename, 'w+', newline='\\n') as csv_file: \n",
    "    csv_writer = csv.writer(csv_file) \n",
    "    csv_writer.writerow(fields) \n",
    "    csv_writer.writerows(rows)\n",
    "\n",
    "print(\"완료\")\n",
    "\n",
    "#- test.csv 파일을 직접 열어서 눈으로 살펴 보세요. -#"
   ]
  },
  {
   "cell_type": "markdown",
   "id": "453bac36",
   "metadata": {},
   "source": [
    "#### csv 파일을 DataFrame으로 변환시키면 데이터 분석 등 사용자가 편집하기에 용이하고 변경 매우 간단\n",
    "csv file -> pd.read_csv() -> DataFrame, DataFrame -> df.to_csv() -> csv file로 변경!!"
   ]
  },
  {
   "cell_type": "code",
   "execution_count": 44,
   "id": "61faf325",
   "metadata": {},
   "outputs": [
    {
     "data": {
      "text/html": [
       "<div>\n",
       "<style scoped>\n",
       "    .dataframe tbody tr th:only-of-type {\n",
       "        vertical-align: middle;\n",
       "    }\n",
       "\n",
       "    .dataframe tbody tr th {\n",
       "        vertical-align: top;\n",
       "    }\n",
       "\n",
       "    .dataframe thead th {\n",
       "        text-align: right;\n",
       "    }\n",
       "</style>\n",
       "<table border=\"1\" class=\"dataframe\">\n",
       "  <thead>\n",
       "    <tr style=\"text-align: right;\">\n",
       "      <th></th>\n",
       "      <th>title</th>\n",
       "      <th>singer</th>\n",
       "      <th>released date</th>\n",
       "    </tr>\n",
       "  </thead>\n",
       "  <tbody>\n",
       "    <tr>\n",
       "      <th>0</th>\n",
       "      <td>Tho Box</td>\n",
       "      <td>Roddy Ricch</td>\n",
       "      <td>2019-12-19</td>\n",
       "    </tr>\n",
       "    <tr>\n",
       "      <th>1</th>\n",
       "      <td>Don't Start Now</td>\n",
       "      <td>Dua Lipa</td>\n",
       "      <td>2019-11-01</td>\n",
       "    </tr>\n",
       "    <tr>\n",
       "      <th>2</th>\n",
       "      <td>Life Is Good</td>\n",
       "      <td>Future Featuring Drake</td>\n",
       "      <td>2020-02-10</td>\n",
       "    </tr>\n",
       "    <tr>\n",
       "      <th>3</th>\n",
       "      <td>Blinding</td>\n",
       "      <td>The Weeknd</td>\n",
       "      <td>2019-11-29</td>\n",
       "    </tr>\n",
       "    <tr>\n",
       "      <th>4</th>\n",
       "      <td>Circles</td>\n",
       "      <td>Post Malone</td>\n",
       "      <td>2019-08-30</td>\n",
       "    </tr>\n",
       "  </tbody>\n",
       "</table>\n",
       "</div>"
      ],
      "text/plain": [
       "             title                  singer released date\n",
       "0          Tho Box             Roddy Ricch    2019-12-19\n",
       "1  Don't Start Now                Dua Lipa    2019-11-01\n",
       "2     Life Is Good  Future Featuring Drake    2020-02-10\n",
       "3         Blinding              The Weeknd    2019-11-29\n",
       "4          Circles             Post Malone    2019-08-30"
      ]
     },
     "execution_count": 44,
     "metadata": {},
     "output_type": "execute_result"
    }
   ],
   "source": [
    "df = pd.read_csv('pandas.csv')\n",
    "df.head()"
   ]
  },
  {
   "cell_type": "markdown",
   "id": "e5e91715",
   "metadata": {},
   "source": [
    "# 7-9. 여러가지 파일 포맷 다루기 (2) XML 파일\n",
    "\n",
    "XML : Extensible Markup Language의 약자로, 다목적 마크업 언어입니다.\n",
    "\n",
    "기존에 HTML을 접한 적이 있다면 마크업 언어가 익숙하실 수 있을 텐데요. 인터넷 웹상에서 문서 즉, 내용을 교환할 때 이러한 마크업 언어를 이용합니다. 마크업 언어를 아주 간단하게 말한다면, 태그라고 불리는 꺾쇠 모양의 괄호(< >)로 구분된 언어라고 할 수 있습니다. API에서 데이터를 요청하고 저장할 때 XML이나 JSON 형식을 이용해 데이터를 교환한답니다. 간단한 XML 파일을 한번 살펴볼까요?\n",
    "XML 파일을 훑어보니 꺾쇠(<글자>)가 정말 많이 보이죠? 이 부분을 태그(tag)라고 부르는데요. 위 파일에는 <Workbook>, <Data> 등의 태그들로 구성되어 있음을 확인할 수 있습니다. 태그는 기본적으로 <태그> 내용 </태그> 형태로 구성되어 있지만, 아래의 오른쪽 그림처럼 태그에 속성(attribute)값이 포함될 수도 있습니다.\n",
    "< 내용 정리>\n",
    "  1. XML은 다목적 마크업 언어(Extensible Markup Language)이다.\n",
    "  2. 마크업 언어는 태그(tag)로 이루어진 언어를 말하며, 상위(부모) 태그 - 하위(자식) 태그의 계층적 구조로 되어 있다.\n",
    "  3. XML은 요소(element)들로 이루어져 있다.\n",
    "  4. 요소는 <열린 태그> 내용 </닫힌 태그>가 기본적인 구조이며, 속성(attribute) 값을 가질 수도 있다.\n"
   ]
  },
  {
   "cell_type": "markdown",
   "id": "3eb25438",
   "metadata": {},
   "source": [
    "#### XML 파일 만들기\n",
    "그럼 지금부터 간단한 XML 파일을 만들어 보겠습니다.\n",
    "\n",
    "1) ElementTree\n",
    "파이썬 표준 라이브러리인 ElementTree는 XML 관련 기능을 다음과 같이 제공합니다.\n",
    "\n",
    "Element() : 태그 생성\n",
    "SubElement() : 자식 태그 생성\n",
    "tag : 태그 이름\n",
    "text : 텍스트 내용 생성\n",
    "attrib : 속성 생성\n",
    "dump()\n",
    "생성된 XML 요소 구조를 시스템(sys.stdout)에 사용합니다. 출력 형식은 일반 XML 파일로 기록됩니다.\n",
    "\n",
    "write() : XML 파일로 저장\n",
    "리스트(list)와 유사한 메서드를 제공\n",
    "append(), insert(), remove(), pop()\n",
    "아래는 person XML을 만드는 코드입니다."
   ]
  },
  {
   "cell_type": "code",
   "execution_count": 45,
   "id": "8dc1a0fa",
   "metadata": {},
   "outputs": [
    {
     "name": "stdout",
     "output_type": "stream",
     "text": [
      "<Person><name>이펠</name><age>28</age><place>강남</place></Person>\n"
     ]
    }
   ],
   "source": [
    "import xml.etree.ElementTree as ET\n",
    "\n",
    "person = ET.Element(\"Person\")\n",
    "name = ET.Element(\"name\")\n",
    "name.text = \"이펠\"\n",
    "person.append(name)\n",
    "\n",
    "age = ET.Element(\"age\")\n",
    "age.text = \"28\"\n",
    "person.append(age)\n",
    "\n",
    "ET.SubElement(person, 'place').text = '강남'\n",
    "\n",
    "ET.dump(person)"
   ]
  },
  {
   "cell_type": "code",
   "execution_count": 46,
   "id": "782b9a53",
   "metadata": {},
   "outputs": [
    {
     "name": "stdout",
     "output_type": "stream",
     "text": [
      "<Person id=\"0x0001\"><firstname>이펠</firstname><age>28</age><place>강남</place></Person>\n"
     ]
    }
   ],
   "source": [
    "# 속성값은 attrib 란 메서드를, name 태그명은 tag 메서드를 이용해 변경할 수 있다.\n",
    "person.attrib[\"id\"] = \"0x0001\"\n",
    "name.tag = \"firstname\"\n",
    "ET.dump(person)"
   ]
  },
  {
   "cell_type": "code",
   "execution_count": 47,
   "id": "47c9939d",
   "metadata": {},
   "outputs": [
    {
     "name": "stdout",
     "output_type": "stream",
     "text": [
      "<Person id=\"0x0001\"><firstname>이펠</firstname><lastname date=\"2020-03-20\">아</lastname><age>28</age><place>강남</place></Person>\n"
     ]
    }
   ],
   "source": [
    "# 이번에는 새롭게 lastname이라는 태그를 firstname 태그 다음으로 삽입하고 속성에 date를 넣어 보기\n",
    "lastname = ET.Element('lastname', date='2020-03-20')\n",
    "lastname.text = '아'\n",
    "person.insert(1,lastname)\n",
    "ET.dump(person)"
   ]
  },
  {
   "cell_type": "code",
   "execution_count": 48,
   "id": "06b2a718",
   "metadata": {},
   "outputs": [],
   "source": [
    "# 삭제는 remove() 혹은 pop() 을 이용하면 됩니다. age 태그를 지우고 싶다면 다음과 같이\n",
    "person.remove(age)"
   ]
  },
  {
   "cell_type": "code",
   "execution_count": 49,
   "id": "1b4cf612",
   "metadata": {},
   "outputs": [],
   "source": [
    "# 이제 마지막으로 XML 파일로 저장\n",
    "ET.ElementTree(person).write('person.xml')"
   ]
  },
  {
   "cell_type": "code",
   "execution_count": 50,
   "id": "1a26da70",
   "metadata": {},
   "outputs": [
    {
     "name": "stdout",
     "output_type": "stream",
     "text": [
      "/bin/bash: is: command not found\r\n"
     ]
    }
   ],
   "source": [
    "# person.xml 파일이 잘 저장되었나?\n",
    "!is"
   ]
  },
  {
   "cell_type": "markdown",
   "id": "d85aef91",
   "metadata": {},
   "source": [
    "#### XML 파싱하기\n",
    "그럼 이제 본격적으로 XML 파일을 파싱해 보도록 하겠습니다. 파싱(parsing, 구문 분석)이란 어떤 문자열을 의미 있는 토큰(token)으로 분해해, 문법적 의미와 구조를 반영한 파스 트리(parse tree)를 만드는 과정입니다. XML 문서를 파싱하게 되면 특정 태그명이나 속성값 등을 불러올 수 있습니다.\n",
    "\n",
    "content img\n",
    "[XML의 파싱 - 파스 트리]\n",
    "https://www.geeksforgeeks.org/xml-parsing-python/\n",
    "파이썬에서는 그 방법으로 크게 2가지를 제공하는데요. 위에서 살펴 본 ElementTree가 첫 번째이고, 다른 하나가 바로 BeautifulSoup 라이브러리를 사용하는 것입니다. 지금부터 이 BeautifulSoup을 이용해 파싱을 시도해 보도록 하겠습니다.\n",
    "\n",
    "(1) 설치\n",
    "클라우드에는 이미 BeautifulSoup, lxml가 설치돼있습니다. 버전을 확인하고 싶다면 아래 명령어를 실행해 보세요!\n",
    "\n",
    "$ pip list | grep beautifulsoup4\n",
    "$ pip list | grep lxml\n",
    "\n",
    "\n",
    "(2) books.xml 파일의 \"title\" 태그의 내용만 가져오기\n",
    "\n",
    "예제 파일 : books.xml\n",
    "\n",
    "$ mkdir -p ~/aiffel/ftext/data/\n",
    "$ ln -s ~/data/books.xml ~/aiffel/ftext/data\n",
    "예제 파일을 클라우드 storage에서 심볼릭 링크를 걸어 aiffel 폴더로 가져옵니다. 그 후 해당 파일의 title 태그에 속한 내용만 가져오는 코드를 작성해 보겠습니다"
   ]
  },
  {
   "cell_type": "code",
   "execution_count": 51,
   "id": "668539aa",
   "metadata": {},
   "outputs": [
    {
     "name": "stdout",
     "output_type": "stream",
     "text": [
      "XML Developer's Guide\n",
      "Midnight Rain\n",
      "Maeve Ascendant\n",
      "Oberon's Legacy\n",
      "The Sundered Grail\n",
      "Lover Birds\n",
      "Splish Splash\n",
      "Creepy Crawlies\n",
      "Paradox Lost\n",
      "Microsoft .NET: The Programming Bible\n",
      "MSXML3: A Comprehensive Guide\n",
      "Visual Studio 7: A Comprehensive Guide\n"
     ]
    }
   ],
   "source": [
    "from bs4 import BeautifulSoup\n",
    "import os\n",
    "\n",
    "path = os.getenv(\"HOME\") + \"/aiffel/ftext/data/books.xml\"  # 로컬을 사용하시려면 경로는 수정해 주세요. \n",
    "with open(path, \"r\", encoding='utf8') as f:\n",
    "    booksxml = f.read() \n",
    "    #- 파일을 문자열로 읽기\n",
    " \n",
    "soup = BeautifulSoup(booksxml,'lxml') \n",
    "#- BeautifulSoup 객체 생성 : lxml parser를 이용해 데이터 분석\n",
    "\n",
    "for title in soup.find_all('title'): \n",
    "#-  태그를 찾는 find_all 함수 이용\n",
    "    print(title.get_text())"
   ]
  },
  {
   "cell_type": "markdown",
   "id": "bf8f7860",
   "metadata": {},
   "source": [
    "# 7-10. 여러가지 파일 포맷 다루기 (3) JSON 파일\n",
    "JSON : JavaScript Object Notation의 약자로, 웹 언어인 JavaScript의 데이터 객체 표현 방식입니다. 웹 브라우저와 다른 애플리케이션 사이에서 HTTP 요청으로 데이터를 보낼 때 널리 사용하는 표준 파일 포맷 중 하나로, XML과 더불어 웹 API나 config 데이터를 전송할 때 많이 쓰입니다.\n",
    "\n",
    "대표적인 예로 트위터는 개발자용 사이트를 통해 여러 가지 API를 JSON 형태로 제공합니다.\n",
    "\n",
    "JSON 데이터의 예시를 함께 살펴봅시다."
   ]
  },
  {
   "cell_type": "markdown",
   "id": "919566ec",
   "metadata": {},
   "source": [
    "#### JSON 파싱\n",
    "(1) JSON 파일 저장\n",
    "파이썬 dictionary 타입은 JSON으로 저장할 수 있습니다. 위 예시로 보인 person이라는 dict 객체를 JSON 파일로 저장해 보겠습니다."
   ]
  },
  {
   "cell_type": "code",
   "execution_count": 52,
   "id": "77fd874a",
   "metadata": {},
   "outputs": [
    {
     "name": "stdout",
     "output_type": "stream",
     "text": [
      "슝~\n"
     ]
    }
   ],
   "source": [
    "import json\n",
    "\n",
    "person = {\n",
    "      \"first name\" : \"Yuna\",\n",
    "      \"last name\" : \"Jung\",\n",
    "      \"age\" : 33,\n",
    "      \"nationality\" : \"South Korea\",\n",
    "      \"education\" : [{\"degree\":\"B.S degree\", \"university\":\"Daehan university\", \"major\": \"mechanical engineering\", \"graduated year\":2010}]\n",
    "       } \n",
    "\n",
    "with open(\"person.json\", \"w\") as f:\n",
    "    json.dump(person , f)\n",
    "\n",
    "print(\"슝~\")"
   ]
  },
  {
   "cell_type": "code",
   "execution_count": 53,
   "id": "18765c83",
   "metadata": {},
   "outputs": [
    {
     "name": "stdout",
     "output_type": "stream",
     "text": [
      "Yuna\n",
      "[{'degree': 'B.S degree', 'university': 'Daehan university', 'major': 'mechanical engineering', 'graduated year': 2010}]\n"
     ]
    }
   ],
   "source": [
    "# (2) JSON 파일 읽기\n",
    "# 반대로, JSON 파일의 내용을 아래처럼 파이썬 dict 객체로 쉽게 읽어들일 수 있습니다.\n",
    "\n",
    "import json\n",
    "\n",
    "with open(\"person.json\", \"r\", encoding=\"utf-8\") as f:\n",
    "    contents = json.load(f)\n",
    "    print(contents[\"first name\"])\n",
    "    print(contents[\"education\"])"
   ]
  },
  {
   "cell_type": "code",
   "execution_count": null,
   "id": "e509c9ad",
   "metadata": {},
   "outputs": [],
   "source": []
  }
 ],
 "metadata": {
  "kernelspec": {
   "display_name": "Python 3 (ipykernel)",
   "language": "python",
   "name": "python3"
  },
  "language_info": {
   "codemirror_mode": {
    "name": "ipython",
    "version": 3
   },
   "file_extension": ".py",
   "mimetype": "text/x-python",
   "name": "python",
   "nbconvert_exporter": "python",
   "pygments_lexer": "ipython3",
   "version": "3.9.7"
  }
 },
 "nbformat": 4,
 "nbformat_minor": 5
}
